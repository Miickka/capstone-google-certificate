{
 "cells": [
  {
   "cell_type": "markdown",
   "metadata": {},
   "source": [
    "# Case study - Google Data Analytics Professional Certificate\n",
    "\n",
    "\n"
   ]
  },
  {
   "cell_type": "markdown",
   "metadata": {},
   "source": [
    "### How does a bike-share navigate speedy success?\n",
    "\n",
    "This case study serves as the capstone project for earning the Google Data Analytics Professional Certificate, offered by Google through the Coursera platform.\n",
    "\n",
    "#### Scenario\n",
    "You are a junior data analyst on the marketing team at Cyclistic, a bike-share company based in Chicago. The director of marketing believes that the company’s future success hinges on increasing the number of annual memberships. To achieve this, your team aims to understand the differences in how casual riders and annual members use Cyclistic bikes. These insights will be crucial in designing a new marketing strategy aimed at converting casual riders into annual members. However, before proceeding, Cyclistic executives need to approve your recommendations, which must be supported by compelling data insights and professional data visualizations.\n",
    "\n",
    "#### Key Question\n",
    "How do annual members and casual riders use Cyclistic bikes differently?"
   ]
  },
  {
   "cell_type": "markdown",
   "metadata": {},
   "source": [
    "The data is in a cloud, from where I downloaded the previous 12 months of Cyclistic’s trip records (from July 2024 to July 2023). Then the data was stored in my local computer\n",
    "\n",
    "The data is organized by month, so it is distributed in 13 folders in a format .zip. After extracting all the 13 files in format .csv to a single folder in my local computer, I proceeded to merge all the data in a single file to make the analysis easier. For that, I preferred to use a script written in Pandas (Python).\n",
    "\n",
    "Now that I have a single file, I am able to assess the credibility of the data, how it's organized, and see the description of the dataframe.\n"
   ]
  },
  {
   "cell_type": "code",
   "execution_count": 2,
   "metadata": {},
   "outputs": [],
   "source": [
    "import pandas as pd"
   ]
  },
  {
   "cell_type": "code",
   "execution_count": 3,
   "metadata": {},
   "outputs": [
    {
     "data": {
      "text/html": [
       "<div>\n",
       "<style scoped>\n",
       "    .dataframe tbody tr th:only-of-type {\n",
       "        vertical-align: middle;\n",
       "    }\n",
       "\n",
       "    .dataframe tbody tr th {\n",
       "        vertical-align: top;\n",
       "    }\n",
       "\n",
       "    .dataframe thead th {\n",
       "        text-align: right;\n",
       "    }\n",
       "</style>\n",
       "<table border=\"1\" class=\"dataframe\">\n",
       "  <thead>\n",
       "    <tr style=\"text-align: right;\">\n",
       "      <th></th>\n",
       "      <th>ride_id</th>\n",
       "      <th>rideable_type</th>\n",
       "      <th>started_at</th>\n",
       "      <th>ended_at</th>\n",
       "      <th>start_station_name</th>\n",
       "      <th>start_station_id</th>\n",
       "      <th>end_station_name</th>\n",
       "      <th>end_station_id</th>\n",
       "      <th>start_lat</th>\n",
       "      <th>start_lng</th>\n",
       "      <th>end_lat</th>\n",
       "      <th>end_lng</th>\n",
       "      <th>member_casual</th>\n",
       "    </tr>\n",
       "  </thead>\n",
       "  <tbody>\n",
       "    <tr>\n",
       "      <th>2420591</th>\n",
       "      <td>E67B9331CD5479DA</td>\n",
       "      <td>classic_bike</td>\n",
       "      <td>2023-10-22 10:04:05</td>\n",
       "      <td>2023-10-22 10:38:21</td>\n",
       "      <td>Clark St &amp; Montrose Ave</td>\n",
       "      <td>KA1503000022</td>\n",
       "      <td>Rush St &amp; Cedar St</td>\n",
       "      <td>KA1504000133</td>\n",
       "      <td>41.961588</td>\n",
       "      <td>-87.666036</td>\n",
       "      <td>41.902309</td>\n",
       "      <td>-87.627691</td>\n",
       "      <td>casual</td>\n",
       "    </tr>\n",
       "  </tbody>\n",
       "</table>\n",
       "</div>"
      ],
      "text/plain": [
       "                  ride_id rideable_type           started_at  \\\n",
       "2420591  E67B9331CD5479DA  classic_bike  2023-10-22 10:04:05   \n",
       "\n",
       "                    ended_at       start_station_name start_station_id  \\\n",
       "2420591  2023-10-22 10:38:21  Clark St & Montrose Ave     KA1503000022   \n",
       "\n",
       "           end_station_name end_station_id  start_lat  start_lng    end_lat  \\\n",
       "2420591  Rush St & Cedar St   KA1504000133  41.961588 -87.666036  41.902309   \n",
       "\n",
       "           end_lng member_casual  \n",
       "2420591 -87.627691        casual  "
      ]
     },
     "execution_count": 3,
     "metadata": {},
     "output_type": "execute_result"
    }
   ],
   "source": [
    "#read the file using pandas and assign it into a variable\n",
    "data = pd.read_csv(\"cyclistic_merged.csv\", sep=\",\")\n",
    "data.sample()"
   ]
  },
  {
   "cell_type": "code",
   "execution_count": 4,
   "metadata": {},
   "outputs": [
    {
     "data": {
      "text/plain": [
       "(6483343, 13)"
      ]
     },
     "execution_count": 4,
     "metadata": {},
     "output_type": "execute_result"
    }
   ],
   "source": [
    "#Get the shape of the dataframe\n",
    "data.shape"
   ]
  },
  {
   "cell_type": "markdown",
   "metadata": {},
   "source": [
    "After merging all the 13 tables into one single file, I dispose now of a csv file with more than *6 millions rows (6.483.343) with 13 collumns.*\n",
    "\n",
    "Let's have a look at the columns and what it contains"
   ]
  },
  {
   "cell_type": "code",
   "execution_count": 5,
   "metadata": {},
   "outputs": [
    {
     "data": {
      "text/html": [
       "<div>\n",
       "<style scoped>\n",
       "    .dataframe tbody tr th:only-of-type {\n",
       "        vertical-align: middle;\n",
       "    }\n",
       "\n",
       "    .dataframe tbody tr th {\n",
       "        vertical-align: top;\n",
       "    }\n",
       "\n",
       "    .dataframe thead th {\n",
       "        text-align: right;\n",
       "    }\n",
       "</style>\n",
       "<table border=\"1\" class=\"dataframe\">\n",
       "  <thead>\n",
       "    <tr style=\"text-align: right;\">\n",
       "      <th></th>\n",
       "      <th>ride_id</th>\n",
       "      <th>rideable_type</th>\n",
       "      <th>started_at</th>\n",
       "      <th>ended_at</th>\n",
       "      <th>start_station_name</th>\n",
       "      <th>start_station_id</th>\n",
       "      <th>end_station_name</th>\n",
       "      <th>end_station_id</th>\n",
       "      <th>start_lat</th>\n",
       "      <th>start_lng</th>\n",
       "      <th>end_lat</th>\n",
       "      <th>end_lng</th>\n",
       "      <th>member_casual</th>\n",
       "    </tr>\n",
       "  </thead>\n",
       "  <tbody>\n",
       "    <tr>\n",
       "      <th>3070854</th>\n",
       "      <td>B9920CAEDE41486B</td>\n",
       "      <td>classic_bike</td>\n",
       "      <td>2023-11-08 08:13:49</td>\n",
       "      <td>2023-11-08 10:40:30</td>\n",
       "      <td>Clarendon Ave &amp; Gordon Ter</td>\n",
       "      <td>13379</td>\n",
       "      <td>Sheridan Rd &amp; Irving Park Rd</td>\n",
       "      <td>13063</td>\n",
       "      <td>41.957867</td>\n",
       "      <td>-87.649505</td>\n",
       "      <td>41.954245</td>\n",
       "      <td>-87.654406</td>\n",
       "      <td>casual</td>\n",
       "    </tr>\n",
       "    <tr>\n",
       "      <th>3426378</th>\n",
       "      <td>E388E51B91E34765</td>\n",
       "      <td>electric_bike</td>\n",
       "      <td>2024-01-03 07:57:08</td>\n",
       "      <td>2024-01-03 08:09:32</td>\n",
       "      <td>Damen Ave &amp; Pierce Ave</td>\n",
       "      <td>TA1305000041</td>\n",
       "      <td>NaN</td>\n",
       "      <td>NaN</td>\n",
       "      <td>41.909366</td>\n",
       "      <td>-87.677718</td>\n",
       "      <td>41.890000</td>\n",
       "      <td>-87.660000</td>\n",
       "      <td>member</td>\n",
       "    </tr>\n",
       "    <tr>\n",
       "      <th>3309999</th>\n",
       "      <td>FDCC909C999FCC8A</td>\n",
       "      <td>electric_bike</td>\n",
       "      <td>2023-12-05 08:43:49</td>\n",
       "      <td>2023-12-05 09:03:02</td>\n",
       "      <td>Damen Ave &amp; Clybourn Ave</td>\n",
       "      <td>13271</td>\n",
       "      <td>Canal St &amp; Madison St</td>\n",
       "      <td>13341</td>\n",
       "      <td>41.931904</td>\n",
       "      <td>-87.677783</td>\n",
       "      <td>41.882409</td>\n",
       "      <td>-87.639767</td>\n",
       "      <td>member</td>\n",
       "    </tr>\n",
       "    <tr>\n",
       "      <th>5566807</th>\n",
       "      <td>7AD93F674443D00B</td>\n",
       "      <td>classic_bike</td>\n",
       "      <td>2024-06-22 15:44:16.362</td>\n",
       "      <td>2024-06-22 16:44:07.664</td>\n",
       "      <td>Montrose Harbor</td>\n",
       "      <td>TA1308000012</td>\n",
       "      <td>LaSalle St &amp; Illinois St</td>\n",
       "      <td>13430</td>\n",
       "      <td>41.963982</td>\n",
       "      <td>-87.638181</td>\n",
       "      <td>41.890762</td>\n",
       "      <td>-87.631697</td>\n",
       "      <td>casual</td>\n",
       "    </tr>\n",
       "    <tr>\n",
       "      <th>5687033</th>\n",
       "      <td>7254DE5CED85772A</td>\n",
       "      <td>electric_bike</td>\n",
       "      <td>2024-06-20 06:40:45.508</td>\n",
       "      <td>2024-06-20 06:58:35.458</td>\n",
       "      <td>NaN</td>\n",
       "      <td>NaN</td>\n",
       "      <td>NaN</td>\n",
       "      <td>NaN</td>\n",
       "      <td>41.930000</td>\n",
       "      <td>-87.650000</td>\n",
       "      <td>41.880000</td>\n",
       "      <td>-87.640000</td>\n",
       "      <td>member</td>\n",
       "    </tr>\n",
       "  </tbody>\n",
       "</table>\n",
       "</div>"
      ],
      "text/plain": [
       "                  ride_id  rideable_type               started_at  \\\n",
       "3070854  B9920CAEDE41486B   classic_bike      2023-11-08 08:13:49   \n",
       "3426378  E388E51B91E34765  electric_bike      2024-01-03 07:57:08   \n",
       "3309999  FDCC909C999FCC8A  electric_bike      2023-12-05 08:43:49   \n",
       "5566807  7AD93F674443D00B   classic_bike  2024-06-22 15:44:16.362   \n",
       "5687033  7254DE5CED85772A  electric_bike  2024-06-20 06:40:45.508   \n",
       "\n",
       "                        ended_at          start_station_name start_station_id  \\\n",
       "3070854      2023-11-08 10:40:30  Clarendon Ave & Gordon Ter            13379   \n",
       "3426378      2024-01-03 08:09:32      Damen Ave & Pierce Ave     TA1305000041   \n",
       "3309999      2023-12-05 09:03:02    Damen Ave & Clybourn Ave            13271   \n",
       "5566807  2024-06-22 16:44:07.664             Montrose Harbor     TA1308000012   \n",
       "5687033  2024-06-20 06:58:35.458                         NaN              NaN   \n",
       "\n",
       "                     end_station_name end_station_id  start_lat  start_lng  \\\n",
       "3070854  Sheridan Rd & Irving Park Rd          13063  41.957867 -87.649505   \n",
       "3426378                           NaN            NaN  41.909366 -87.677718   \n",
       "3309999         Canal St & Madison St          13341  41.931904 -87.677783   \n",
       "5566807      LaSalle St & Illinois St          13430  41.963982 -87.638181   \n",
       "5687033                           NaN            NaN  41.930000 -87.650000   \n",
       "\n",
       "           end_lat    end_lng member_casual  \n",
       "3070854  41.954245 -87.654406        casual  \n",
       "3426378  41.890000 -87.660000        member  \n",
       "3309999  41.882409 -87.639767        member  \n",
       "5566807  41.890762 -87.631697        casual  \n",
       "5687033  41.880000 -87.640000        member  "
      ]
     },
     "execution_count": 5,
     "metadata": {},
     "output_type": "execute_result"
    }
   ],
   "source": [
    "data.sample(5)"
   ]
  },
  {
   "cell_type": "markdown",
   "metadata": {},
   "source": [
    "### **Data's integrity**\n",
    "\n",
    "Before cleaning the data, we must assess the consistency/integrity of the data. To do so, we will check for:\n",
    "1. Missing Values\n",
    "2. Check for Duplicates\n",
    "3. Validate Data Types \n",
    "4. Assess Data Consistency\n",
    "5. Validate Referential Integrity\n",
    "6. Examine Statistical Summaries\n",
    "7. Check for Data Anomalies or Outliers\n"
   ]
  },
  {
   "cell_type": "code",
   "execution_count": 6,
   "metadata": {},
   "outputs": [
    {
     "name": "stdout",
     "output_type": "stream",
     "text": [
      "ride_id                     0\n",
      "rideable_type               0\n",
      "started_at                  0\n",
      "ended_at                    0\n",
      "start_station_name    1069968\n",
      "start_station_id      1069968\n",
      "end_station_name      1119780\n",
      "end_station_id        1119780\n",
      "start_lat                   0\n",
      "start_lng                   0\n",
      "end_lat                  9010\n",
      "end_lng                  9010\n",
      "member_casual               0\n",
      "dtype: int64\n"
     ]
    }
   ],
   "source": [
    "#1 Checking for missing values\n",
    "missing_values = data.isnull().sum()\n",
    "print(missing_values)"
   ]
  },
  {
   "cell_type": "markdown",
   "metadata": {},
   "source": [
    "We can see that **\"start_station_name\", \"start_station_id\", \"end_station_name\", \"end_station_id\", \"end_lat\", and \"end_lng\"** have a lot of missing values. However, they are not important to answer the business task so they will this columns will be dropped during the cleaning. "
   ]
  },
  {
   "cell_type": "code",
   "execution_count": 7,
   "metadata": {},
   "outputs": [
    {
     "name": "stdout",
     "output_type": "stream",
     "text": [
      "Number of duplicate rows: 0\n"
     ]
    }
   ],
   "source": [
    "#2 Checking for duplicates\n",
    "\n",
    "duplicates = data.duplicated().sum()\n",
    "print(f\"Number of duplicate rows: {duplicates}\")\n"
   ]
  },
  {
   "cell_type": "markdown",
   "metadata": {},
   "source": [
    "There is no duplicates in the dataframe. "
   ]
  },
  {
   "cell_type": "code",
   "execution_count": 8,
   "metadata": {},
   "outputs": [
    {
     "data": {
      "text/plain": [
       "ride_id                object\n",
       "rideable_type          object\n",
       "started_at             object\n",
       "ended_at               object\n",
       "start_station_name     object\n",
       "start_station_id       object\n",
       "end_station_name       object\n",
       "end_station_id         object\n",
       "start_lat             float64\n",
       "start_lng             float64\n",
       "end_lat               float64\n",
       "end_lng               float64\n",
       "member_casual          object\n",
       "dtype: object"
      ]
     },
     "execution_count": 8,
     "metadata": {},
     "output_type": "execute_result"
    }
   ],
   "source": [
    "#3. Validate Data Types \n",
    "data.dtypes"
   ]
  },
  {
   "cell_type": "code",
   "execution_count": 9,
   "metadata": {},
   "outputs": [
    {
     "data": {
      "text/html": [
       "<div>\n",
       "<style scoped>\n",
       "    .dataframe tbody tr th:only-of-type {\n",
       "        vertical-align: middle;\n",
       "    }\n",
       "\n",
       "    .dataframe tbody tr th {\n",
       "        vertical-align: top;\n",
       "    }\n",
       "\n",
       "    .dataframe thead th {\n",
       "        text-align: right;\n",
       "    }\n",
       "</style>\n",
       "<table border=\"1\" class=\"dataframe\">\n",
       "  <thead>\n",
       "    <tr style=\"text-align: right;\">\n",
       "      <th></th>\n",
       "      <th>ride_id</th>\n",
       "      <th>rideable_type</th>\n",
       "      <th>started_at</th>\n",
       "      <th>ended_at</th>\n",
       "      <th>start_station_name</th>\n",
       "      <th>start_station_id</th>\n",
       "      <th>end_station_name</th>\n",
       "      <th>end_station_id</th>\n",
       "      <th>start_lat</th>\n",
       "      <th>start_lng</th>\n",
       "      <th>end_lat</th>\n",
       "      <th>end_lng</th>\n",
       "      <th>member_casual</th>\n",
       "    </tr>\n",
       "  </thead>\n",
       "  <tbody>\n",
       "    <tr>\n",
       "      <th>328857</th>\n",
       "      <td>9C6D25E4A00D4BCD</td>\n",
       "      <td>classic_bike</td>\n",
       "      <td>2023-07-17 18:14:22</td>\n",
       "      <td>2023-07-17 18:21:44</td>\n",
       "      <td>Clark St &amp; Armitage Ave</td>\n",
       "      <td>13146</td>\n",
       "      <td>Sheffield Ave &amp; Webster Ave</td>\n",
       "      <td>TA1309000033</td>\n",
       "      <td>41.918306</td>\n",
       "      <td>-87.636282</td>\n",
       "      <td>41.921540</td>\n",
       "      <td>-87.653818</td>\n",
       "      <td>member</td>\n",
       "    </tr>\n",
       "    <tr>\n",
       "      <th>3680634</th>\n",
       "      <td>844969F11BA41499</td>\n",
       "      <td>electric_bike</td>\n",
       "      <td>2024-02-24 11:33:49</td>\n",
       "      <td>2024-02-24 11:45:53</td>\n",
       "      <td>Winchester Ave &amp; Elston Ave</td>\n",
       "      <td>KA1504000140</td>\n",
       "      <td>NaN</td>\n",
       "      <td>NaN</td>\n",
       "      <td>41.924086</td>\n",
       "      <td>-87.676556</td>\n",
       "      <td>41.910000</td>\n",
       "      <td>-87.650000</td>\n",
       "      <td>casual</td>\n",
       "    </tr>\n",
       "    <tr>\n",
       "      <th>4497297</th>\n",
       "      <td>8661AF61E9F2BBFA</td>\n",
       "      <td>classic_bike</td>\n",
       "      <td>2024-05-17 09:46:53</td>\n",
       "      <td>2024-05-17 09:52:57</td>\n",
       "      <td>Kimbark Ave &amp; 53rd St</td>\n",
       "      <td>TA1309000037</td>\n",
       "      <td>University Ave &amp; 57th St</td>\n",
       "      <td>KA1503000071</td>\n",
       "      <td>41.799272</td>\n",
       "      <td>-87.595008</td>\n",
       "      <td>41.791478</td>\n",
       "      <td>-87.599861</td>\n",
       "      <td>member</td>\n",
       "    </tr>\n",
       "    <tr>\n",
       "      <th>6084608</th>\n",
       "      <td>CC5B69C9982C7F14</td>\n",
       "      <td>classic_bike</td>\n",
       "      <td>2024-07-14 20:12:21.237</td>\n",
       "      <td>2024-07-14 20:17:49.780</td>\n",
       "      <td>Campbell Ave &amp; Montrose Ave</td>\n",
       "      <td>15623</td>\n",
       "      <td>Rockwell St &amp; Eastwood Ave</td>\n",
       "      <td>KA1504000093</td>\n",
       "      <td>41.961524</td>\n",
       "      <td>-87.691177</td>\n",
       "      <td>41.965900</td>\n",
       "      <td>-87.693638</td>\n",
       "      <td>member</td>\n",
       "    </tr>\n",
       "    <tr>\n",
       "      <th>6409724</th>\n",
       "      <td>9D81642D9E3D4E09</td>\n",
       "      <td>classic_bike</td>\n",
       "      <td>2024-07-22 09:02:06.481</td>\n",
       "      <td>2024-07-22 09:11:11.698</td>\n",
       "      <td>Campbell Ave &amp; Montrose Ave</td>\n",
       "      <td>15623</td>\n",
       "      <td>Paulina St &amp; Montrose Ave</td>\n",
       "      <td>TA1309000021</td>\n",
       "      <td>41.961524</td>\n",
       "      <td>-87.691177</td>\n",
       "      <td>41.961507</td>\n",
       "      <td>-87.671387</td>\n",
       "      <td>member</td>\n",
       "    </tr>\n",
       "  </tbody>\n",
       "</table>\n",
       "</div>"
      ],
      "text/plain": [
       "                  ride_id  rideable_type               started_at  \\\n",
       "328857   9C6D25E4A00D4BCD   classic_bike      2023-07-17 18:14:22   \n",
       "3680634  844969F11BA41499  electric_bike      2024-02-24 11:33:49   \n",
       "4497297  8661AF61E9F2BBFA   classic_bike      2024-05-17 09:46:53   \n",
       "6084608  CC5B69C9982C7F14   classic_bike  2024-07-14 20:12:21.237   \n",
       "6409724  9D81642D9E3D4E09   classic_bike  2024-07-22 09:02:06.481   \n",
       "\n",
       "                        ended_at           start_station_name  \\\n",
       "328857       2023-07-17 18:21:44      Clark St & Armitage Ave   \n",
       "3680634      2024-02-24 11:45:53  Winchester Ave & Elston Ave   \n",
       "4497297      2024-05-17 09:52:57        Kimbark Ave & 53rd St   \n",
       "6084608  2024-07-14 20:17:49.780  Campbell Ave & Montrose Ave   \n",
       "6409724  2024-07-22 09:11:11.698  Campbell Ave & Montrose Ave   \n",
       "\n",
       "        start_station_id             end_station_name end_station_id  \\\n",
       "328857             13146  Sheffield Ave & Webster Ave   TA1309000033   \n",
       "3680634     KA1504000140                          NaN            NaN   \n",
       "4497297     TA1309000037     University Ave & 57th St   KA1503000071   \n",
       "6084608            15623   Rockwell St & Eastwood Ave   KA1504000093   \n",
       "6409724            15623    Paulina St & Montrose Ave   TA1309000021   \n",
       "\n",
       "         start_lat  start_lng    end_lat    end_lng member_casual  \n",
       "328857   41.918306 -87.636282  41.921540 -87.653818        member  \n",
       "3680634  41.924086 -87.676556  41.910000 -87.650000        casual  \n",
       "4497297  41.799272 -87.595008  41.791478 -87.599861        member  \n",
       "6084608  41.961524 -87.691177  41.965900 -87.693638        member  \n",
       "6409724  41.961524 -87.691177  41.961507 -87.671387        member  "
      ]
     },
     "execution_count": 9,
     "metadata": {},
     "output_type": "execute_result"
    }
   ],
   "source": [
    "data.sample(5)"
   ]
  },
  {
   "cell_type": "markdown",
   "metadata": {},
   "source": [
    "We can see that some columns have not the right type of data. \"Ride_id\", \"rideable_type\", \"start_station_name\", \"start_station_id\", \"end_station_name\", \"end_station_id\", and \"member_casual\" should all be of **string** type. Also, \"started_at\" and \"ended_at\" should be **datetime** type. Let's convert them. "
   ]
  },
  {
   "cell_type": "code",
   "execution_count": 10,
   "metadata": {},
   "outputs": [
    {
     "data": {
      "text/plain": [
       "ride_id                string\n",
       "rideable_type          string\n",
       "started_at             object\n",
       "ended_at               object\n",
       "start_station_name     string\n",
       "start_station_id       string\n",
       "end_station_name       string\n",
       "end_station_id         string\n",
       "start_lat             float64\n",
       "start_lng             float64\n",
       "end_lat               float64\n",
       "end_lng               float64\n",
       "member_casual          string\n",
       "dtype: object"
      ]
     },
     "execution_count": 10,
     "metadata": {},
     "output_type": "execute_result"
    }
   ],
   "source": [
    "#assign the columns to a variable \n",
    "cols_obj_to_str = ['ride_id','rideable_type','start_station_name','start_station_id','end_station_name','end_station_id','member_casual']\n",
    "\n",
    "#convert the variable from object to string using a for loop\n",
    "for col in cols_obj_to_str:\n",
    "    data[col] = data[col].astype(pd.StringDtype())\n",
    "\n",
    "#print the dtypes to see if they are converted\n",
    "data.dtypes\n"
   ]
  },
  {
   "cell_type": "code",
   "execution_count": 11,
   "metadata": {},
   "outputs": [
    {
     "data": {
      "text/plain": [
       "ride_id                       string\n",
       "rideable_type                 string\n",
       "started_at            datetime64[ns]\n",
       "ended_at              datetime64[ns]\n",
       "start_station_name            string\n",
       "start_station_id              string\n",
       "end_station_name              string\n",
       "end_station_id                string\n",
       "start_lat                    float64\n",
       "start_lng                    float64\n",
       "end_lat                      float64\n",
       "end_lng                      float64\n",
       "member_casual                 string\n",
       "dtype: object"
      ]
     },
     "execution_count": 11,
     "metadata": {},
     "output_type": "execute_result"
    }
   ],
   "source": [
    "#assign the columns to a variable \n",
    "cols_obj_to_date = ['started_at','ended_at']\n",
    "\n",
    "#convert the variable from object to string using a for loop\n",
    "for col in cols_obj_to_date:\n",
    "    data[col] = pd.to_datetime(data[col])\n",
    "\n",
    "#print the dtypes to see if they are converted\n",
    "data.dtypes"
   ]
  },
  {
   "cell_type": "markdown",
   "metadata": {},
   "source": [
    "Now, all columns have the correct data type\n",
    "\n",
    "Let's pass to check the consistency of data"
   ]
  },
  {
   "cell_type": "code",
   "execution_count": 12,
   "metadata": {},
   "outputs": [
    {
     "data": {
      "text/plain": [
       "0          16\n",
       "1          16\n",
       "2          16\n",
       "3          16\n",
       "4          16\n",
       "           ..\n",
       "6483338    16\n",
       "6483339    16\n",
       "6483340    16\n",
       "6483341    16\n",
       "6483342    16\n",
       "Name: ride_id, Length: 6483343, dtype: Int64"
      ]
     },
     "execution_count": 12,
     "metadata": {},
     "output_type": "execute_result"
    }
   ],
   "source": [
    "# 4 Assess Data Consistency\n",
    "data['ride_id'].str.len()"
   ]
  },
  {
   "cell_type": "markdown",
   "metadata": {},
   "source": [
    "The majority of entries in \"ride_id\" columns seems to be 16 characters longer. Now we must see if there is entries with length different from 16 "
   ]
  },
  {
   "cell_type": "code",
   "execution_count": 13,
   "metadata": {},
   "outputs": [
    {
     "data": {
      "text/plain": [
       "0"
      ]
     },
     "execution_count": 13,
     "metadata": {},
     "output_type": "execute_result"
    }
   ],
   "source": [
    "#Assign the current lenght of 16 in the dataframe\n",
    "length = data['ride_id'].str.len()\n",
    "sum(length != 16) "
   ]
  },
  {
   "cell_type": "markdown",
   "metadata": {},
   "source": [
    "There is no entries with more or less than 16 caracters so it's consistent. \n",
    "\n",
    "We are going to skip the **5. Validate Referential Integrity** step since we don't have any relantionship between tables so there's no primary and foreign keys to validate. "
   ]
  },
  {
   "cell_type": "code",
   "execution_count": 14,
   "metadata": {},
   "outputs": [
    {
     "data": {
      "text/html": [
       "<div>\n",
       "<style scoped>\n",
       "    .dataframe tbody tr th:only-of-type {\n",
       "        vertical-align: middle;\n",
       "    }\n",
       "\n",
       "    .dataframe tbody tr th {\n",
       "        vertical-align: top;\n",
       "    }\n",
       "\n",
       "    .dataframe thead th {\n",
       "        text-align: right;\n",
       "    }\n",
       "</style>\n",
       "<table border=\"1\" class=\"dataframe\">\n",
       "  <thead>\n",
       "    <tr style=\"text-align: right;\">\n",
       "      <th></th>\n",
       "      <th>start_lat</th>\n",
       "      <th>start_lng</th>\n",
       "      <th>end_lat</th>\n",
       "      <th>end_lng</th>\n",
       "    </tr>\n",
       "  </thead>\n",
       "  <tbody>\n",
       "    <tr>\n",
       "      <th>count</th>\n",
       "      <td>6.483343e+06</td>\n",
       "      <td>6.483343e+06</td>\n",
       "      <td>6.474333e+06</td>\n",
       "      <td>6.474333e+06</td>\n",
       "    </tr>\n",
       "    <tr>\n",
       "      <th>mean</th>\n",
       "      <td>4.190304e+01</td>\n",
       "      <td>-8.764656e+01</td>\n",
       "      <td>4.190343e+01</td>\n",
       "      <td>-8.764680e+01</td>\n",
       "    </tr>\n",
       "    <tr>\n",
       "      <th>std</th>\n",
       "      <td>4.488528e-02</td>\n",
       "      <td>2.730491e-02</td>\n",
       "      <td>5.123858e-02</td>\n",
       "      <td>4.929987e-02</td>\n",
       "    </tr>\n",
       "    <tr>\n",
       "      <th>min</th>\n",
       "      <td>4.163000e+01</td>\n",
       "      <td>-8.794000e+01</td>\n",
       "      <td>0.000000e+00</td>\n",
       "      <td>-1.440500e+02</td>\n",
       "    </tr>\n",
       "    <tr>\n",
       "      <th>25%</th>\n",
       "      <td>4.188103e+01</td>\n",
       "      <td>-8.766000e+01</td>\n",
       "      <td>4.188103e+01</td>\n",
       "      <td>-8.766000e+01</td>\n",
       "    </tr>\n",
       "    <tr>\n",
       "      <th>50%</th>\n",
       "      <td>4.189897e+01</td>\n",
       "      <td>-8.764319e+01</td>\n",
       "      <td>4.189993e+01</td>\n",
       "      <td>-8.764335e+01</td>\n",
       "    </tr>\n",
       "    <tr>\n",
       "      <th>75%</th>\n",
       "      <td>4.193000e+01</td>\n",
       "      <td>-8.762956e+01</td>\n",
       "      <td>4.193000e+01</td>\n",
       "      <td>-8.762963e+01</td>\n",
       "    </tr>\n",
       "    <tr>\n",
       "      <th>max</th>\n",
       "      <td>4.207000e+01</td>\n",
       "      <td>-8.746000e+01</td>\n",
       "      <td>8.796000e+01</td>\n",
       "      <td>0.000000e+00</td>\n",
       "    </tr>\n",
       "  </tbody>\n",
       "</table>\n",
       "</div>"
      ],
      "text/plain": [
       "          start_lat     start_lng       end_lat       end_lng\n",
       "count  6.483343e+06  6.483343e+06  6.474333e+06  6.474333e+06\n",
       "mean   4.190304e+01 -8.764656e+01  4.190343e+01 -8.764680e+01\n",
       "std    4.488528e-02  2.730491e-02  5.123858e-02  4.929987e-02\n",
       "min    4.163000e+01 -8.794000e+01  0.000000e+00 -1.440500e+02\n",
       "25%    4.188103e+01 -8.766000e+01  4.188103e+01 -8.766000e+01\n",
       "50%    4.189897e+01 -8.764319e+01  4.189993e+01 -8.764335e+01\n",
       "75%    4.193000e+01 -8.762956e+01  4.193000e+01 -8.762963e+01\n",
       "max    4.207000e+01 -8.746000e+01  8.796000e+01  0.000000e+00"
      ]
     },
     "execution_count": 14,
     "metadata": {},
     "output_type": "execute_result"
    }
   ],
   "source": [
    "#6. Examine Statistical Summaries\n",
    "data.describe()"
   ]
  },
  {
   "cell_type": "markdown",
   "metadata": {},
   "source": [
    "We can see that the summary stats has no sense since it uses only the data that we are going to drop in the cleaning phase. \n",
    "\n",
    "Let's pass to the last step."
   ]
  },
  {
   "cell_type": "code",
   "execution_count": 15,
   "metadata": {},
   "outputs": [
    {
     "data": {
      "text/plain": [
       "<AxesSubplot:>"
      ]
     },
     "execution_count": 15,
     "metadata": {},
     "output_type": "execute_result"
    },
    {
     "data": {
      "image/png": "[encoded data removed]",
      "text/plain": [
       "<Figure size 432x288 with 1 Axes>"
      ]
     },
     "metadata": {
      "needs_background": "light"
     },
     "output_type": "display_data"
    }
   ],
   "source": [
    "#Check for Data Anomalies or Outliers\n",
    "\n",
    "#starting with types of bikes\n",
    "bikes = data['rideable_type'].value_counts()\n",
    "bikes.plot(kind='bar')"
   ]
  },
  {
   "cell_type": "code",
   "execution_count": 16,
   "metadata": {},
   "outputs": [
    {
     "name": "stdout",
     "output_type": "stream",
     "text": [
      "False    6448962\n",
      "True       34381\n",
      "Name: rideable_type, dtype: Int64\n"
     ]
    }
   ],
   "source": [
    "#Let's check more about the docked_bike types\n",
    "docked = data['rideable_type'] == 'docked_bike'\n",
    "print(docked.value_counts())"
   ]
  },
  {
   "cell_type": "code",
   "execution_count": 17,
   "metadata": {},
   "outputs": [
    {
     "data": {
      "text/plain": [
       "<AxesSubplot:>"
      ]
     },
     "execution_count": 17,
     "metadata": {},
     "output_type": "execute_result"
    },
    {
     "data": {
      "image/png": "[encoded data removed]",
      "text/plain": [
       "<Figure size 432x288 with 1 Axes>"
      ]
     },
     "metadata": {
      "needs_background": "light"
     },
     "output_type": "display_data"
    }
   ],
   "source": [
    "#now with members type \n",
    "members_types = data['member_casual'].value_counts()\n",
    "members_types.plot(kind='bar')"
   ]
  },
  {
   "cell_type": "markdown",
   "metadata": {},
   "source": [
    "Since there is not so many outliers, we can conclude that the data integrity is assured and we can move to the cleaning phase of the analysis"
   ]
  },
  {
   "cell_type": "markdown",
   "metadata": {},
   "source": [
    "### **Cleaning the data**\n",
    "\n",
    "Since we don't have duplicates in the data frame, there is no need to drop any rows for a start. But we must drop the columns that we will not use to answer the business task. The columns that we must drop are **\"start_station_name\", \"start_station_id\", \"end_station_name\", \"end_station_id\", \"start_lat\", \"start_lng\", \"end_lat\", and \"end_lng\"**. "
   ]
  },
  {
   "cell_type": "code",
   "execution_count": 18,
   "metadata": {},
   "outputs": [
    {
     "data": {
      "text/html": [
       "<div>\n",
       "<style scoped>\n",
       "    .dataframe tbody tr th:only-of-type {\n",
       "        vertical-align: middle;\n",
       "    }\n",
       "\n",
       "    .dataframe tbody tr th {\n",
       "        vertical-align: top;\n",
       "    }\n",
       "\n",
       "    .dataframe thead th {\n",
       "        text-align: right;\n",
       "    }\n",
       "</style>\n",
       "<table border=\"1\" class=\"dataframe\">\n",
       "  <thead>\n",
       "    <tr style=\"text-align: right;\">\n",
       "      <th></th>\n",
       "      <th>ride_id</th>\n",
       "      <th>rideable_type</th>\n",
       "      <th>started_at</th>\n",
       "      <th>ended_at</th>\n",
       "      <th>member_casual</th>\n",
       "    </tr>\n",
       "  </thead>\n",
       "  <tbody>\n",
       "    <tr>\n",
       "      <th>5694691</th>\n",
       "      <td>C84227200BA7AC1F</td>\n",
       "      <td>electric_bike</td>\n",
       "      <td>2024-06-30 00:33:48.241</td>\n",
       "      <td>2024-06-30 00:34:08.774</td>\n",
       "      <td>member</td>\n",
       "    </tr>\n",
       "    <tr>\n",
       "      <th>3862691</th>\n",
       "      <td>3571EA6F4E1A1AEF</td>\n",
       "      <td>electric_bike</td>\n",
       "      <td>2024-03-28 11:53:25.000</td>\n",
       "      <td>2024-03-28 12:00:46.000</td>\n",
       "      <td>member</td>\n",
       "    </tr>\n",
       "    <tr>\n",
       "      <th>1526636</th>\n",
       "      <td>A49BE4C0996D2846</td>\n",
       "      <td>electric_bike</td>\n",
       "      <td>2023-08-19 01:28:46.000</td>\n",
       "      <td>2023-08-19 01:31:39.000</td>\n",
       "      <td>member</td>\n",
       "    </tr>\n",
       "    <tr>\n",
       "      <th>889576</th>\n",
       "      <td>01C24ACAB17DDAE2</td>\n",
       "      <td>classic_bike</td>\n",
       "      <td>2023-08-20 11:00:19.000</td>\n",
       "      <td>2023-08-20 11:17:12.000</td>\n",
       "      <td>member</td>\n",
       "    </tr>\n",
       "    <tr>\n",
       "      <th>4328171</th>\n",
       "      <td>DA0BF5F255C12C02</td>\n",
       "      <td>classic_bike</td>\n",
       "      <td>2024-04-28 12:57:19.000</td>\n",
       "      <td>2024-04-28 13:05:07.000</td>\n",
       "      <td>casual</td>\n",
       "    </tr>\n",
       "  </tbody>\n",
       "</table>\n",
       "</div>"
      ],
      "text/plain": [
       "                  ride_id  rideable_type              started_at  \\\n",
       "5694691  C84227200BA7AC1F  electric_bike 2024-06-30 00:33:48.241   \n",
       "3862691  3571EA6F4E1A1AEF  electric_bike 2024-03-28 11:53:25.000   \n",
       "1526636  A49BE4C0996D2846  electric_bike 2023-08-19 01:28:46.000   \n",
       "889576   01C24ACAB17DDAE2   classic_bike 2023-08-20 11:00:19.000   \n",
       "4328171  DA0BF5F255C12C02   classic_bike 2024-04-28 12:57:19.000   \n",
       "\n",
       "                       ended_at member_casual  \n",
       "5694691 2024-06-30 00:34:08.774        member  \n",
       "3862691 2024-03-28 12:00:46.000        member  \n",
       "1526636 2023-08-19 01:31:39.000        member  \n",
       "889576  2023-08-20 11:17:12.000        member  \n",
       "4328171 2024-04-28 13:05:07.000        casual  "
      ]
     },
     "execution_count": 18,
     "metadata": {},
     "output_type": "execute_result"
    }
   ],
   "source": [
    "#assigning the columns to drop to a variable\n",
    "columns_to_drop = [\"start_station_name\", \"start_station_id\", \"end_station_name\", \"end_station_id\", \"start_lat\", \"start_lng\", \"end_lat\", \"end_lng\"]\n",
    "\n",
    "#droping the columns \n",
    "data = data.drop(columns=columns_to_drop)\n",
    "\n",
    "#getting a sample\n",
    "data.sample(5)"
   ]
  },
  {
   "cell_type": "markdown",
   "metadata": {},
   "source": [
    "Great! We have dropped the columns that are not useful for the analysis. We could of course drop also the \"ride_id\" column, but it would have blocked the marketing team to identify which user biked using the Cyclistic system. \n",
    "\n",
    "Now, let's create a new column 'ride_length' by subtracting the column 'started_at' from the 'column ended_at'"
   ]
  },
  {
   "cell_type": "code",
   "execution_count": 28,
   "metadata": {},
   "outputs": [
    {
     "data": {
      "text/html": [
       "<div>\n",
       "<style scoped>\n",
       "    .dataframe tbody tr th:only-of-type {\n",
       "        vertical-align: middle;\n",
       "    }\n",
       "\n",
       "    .dataframe tbody tr th {\n",
       "        vertical-align: top;\n",
       "    }\n",
       "\n",
       "    .dataframe thead th {\n",
       "        text-align: right;\n",
       "    }\n",
       "</style>\n",
       "<table border=\"1\" class=\"dataframe\">\n",
       "  <thead>\n",
       "    <tr style=\"text-align: right;\">\n",
       "      <th></th>\n",
       "      <th>ride_id</th>\n",
       "      <th>rideable_type</th>\n",
       "      <th>started_at</th>\n",
       "      <th>ended_at</th>\n",
       "      <th>member_casual</th>\n",
       "      <th>ride_length</th>\n",
       "      <th>ride_length_minutes</th>\n",
       "    </tr>\n",
       "  </thead>\n",
       "  <tbody>\n",
       "    <tr>\n",
       "      <th>5563392</th>\n",
       "      <td>40D6C2845E1E4199</td>\n",
       "      <td>classic_bike</td>\n",
       "      <td>2024-06-05 23:24:40.138</td>\n",
       "      <td>2024-06-05 23:36:39.743</td>\n",
       "      <td>member</td>\n",
       "      <td>0 days 00:11:59.605000</td>\n",
       "      <td>-11.993417</td>\n",
       "    </tr>\n",
       "    <tr>\n",
       "      <th>4814026</th>\n",
       "      <td>2AB64F1B164EF125</td>\n",
       "      <td>electric_bike</td>\n",
       "      <td>2024-05-22 14:22:26.000</td>\n",
       "      <td>2024-05-22 14:22:48.000</td>\n",
       "      <td>member</td>\n",
       "      <td>0 days 00:00:22</td>\n",
       "      <td>-0.366667</td>\n",
       "    </tr>\n",
       "    <tr>\n",
       "      <th>1778784</th>\n",
       "      <td>6040F9DA3389667B</td>\n",
       "      <td>classic_bike</td>\n",
       "      <td>2023-09-02 23:33:40.000</td>\n",
       "      <td>2023-09-03 00:22:17.000</td>\n",
       "      <td>casual</td>\n",
       "      <td>0 days 00:48:37</td>\n",
       "      <td>-48.616667</td>\n",
       "    </tr>\n",
       "    <tr>\n",
       "      <th>5602097</th>\n",
       "      <td>9F65820385A65ACA</td>\n",
       "      <td>electric_bike</td>\n",
       "      <td>2024-06-15 15:00:24.789</td>\n",
       "      <td>2024-06-15 15:59:29.527</td>\n",
       "      <td>casual</td>\n",
       "      <td>0 days 00:59:04.738000</td>\n",
       "      <td>-59.078967</td>\n",
       "    </tr>\n",
       "    <tr>\n",
       "      <th>6016806</th>\n",
       "      <td>9582F01ED09835FF</td>\n",
       "      <td>electric_bike</td>\n",
       "      <td>2024-07-01 14:54:53.413</td>\n",
       "      <td>2024-07-01 15:24:03.700</td>\n",
       "      <td>member</td>\n",
       "      <td>0 days 00:29:10.287000</td>\n",
       "      <td>-29.171450</td>\n",
       "    </tr>\n",
       "  </tbody>\n",
       "</table>\n",
       "</div>"
      ],
      "text/plain": [
       "                  ride_id  rideable_type              started_at  \\\n",
       "5563392  40D6C2845E1E4199   classic_bike 2024-06-05 23:24:40.138   \n",
       "4814026  2AB64F1B164EF125  electric_bike 2024-05-22 14:22:26.000   \n",
       "1778784  6040F9DA3389667B   classic_bike 2023-09-02 23:33:40.000   \n",
       "5602097  9F65820385A65ACA  electric_bike 2024-06-15 15:00:24.789   \n",
       "6016806  9582F01ED09835FF  electric_bike 2024-07-01 14:54:53.413   \n",
       "\n",
       "                       ended_at member_casual            ride_length  \\\n",
       "5563392 2024-06-05 23:36:39.743        member 0 days 00:11:59.605000   \n",
       "4814026 2024-05-22 14:22:48.000        member        0 days 00:00:22   \n",
       "1778784 2023-09-03 00:22:17.000        casual        0 days 00:48:37   \n",
       "5602097 2024-06-15 15:59:29.527        casual 0 days 00:59:04.738000   \n",
       "6016806 2024-07-01 15:24:03.700        member 0 days 00:29:10.287000   \n",
       "\n",
       "         ride_length_minutes  \n",
       "5563392           -11.993417  \n",
       "4814026            -0.366667  \n",
       "1778784           -48.616667  \n",
       "5602097           -59.078967  \n",
       "6016806           -29.171450  "
      ]
     },
     "execution_count": 28,
     "metadata": {},
     "output_type": "execute_result"
    }
   ],
   "source": [
    "#create new columns 'ride_length' \n",
    "data['ride_length'] = data['ended_at'] - data['started_at']\n",
    "\n",
    "\n",
    "#print a sample\n",
    "data.sample(5)"
   ]
  },
  {
   "cell_type": "code",
   "execution_count": 32,
   "metadata": {},
   "outputs": [
    {
     "data": {
      "text/html": [
       "<div>\n",
       "<style scoped>\n",
       "    .dataframe tbody tr th:only-of-type {\n",
       "        vertical-align: middle;\n",
       "    }\n",
       "\n",
       "    .dataframe tbody tr th {\n",
       "        vertical-align: top;\n",
       "    }\n",
       "\n",
       "    .dataframe thead th {\n",
       "        text-align: right;\n",
       "    }\n",
       "</style>\n",
       "<table border=\"1\" class=\"dataframe\">\n",
       "  <thead>\n",
       "    <tr style=\"text-align: right;\">\n",
       "      <th></th>\n",
       "      <th>ride_id</th>\n",
       "      <th>rideable_type</th>\n",
       "      <th>started_at</th>\n",
       "      <th>ended_at</th>\n",
       "      <th>member_casual</th>\n",
       "      <th>ride_length</th>\n",
       "      <th>ride_length_minutes</th>\n",
       "      <th>ride_length_hours</th>\n",
       "    </tr>\n",
       "  </thead>\n",
       "  <tbody>\n",
       "    <tr>\n",
       "      <th>3282738</th>\n",
       "      <td>34D45D7ECE2A038D</td>\n",
       "      <td>classic_bike</td>\n",
       "      <td>2023-12-07 11:35:54</td>\n",
       "      <td>2023-12-07 11:38:18</td>\n",
       "      <td>member</td>\n",
       "      <td>0 days 00:02:24</td>\n",
       "      <td>2.400000</td>\n",
       "      <td>0.04</td>\n",
       "    </tr>\n",
       "    <tr>\n",
       "      <th>180268</th>\n",
       "      <td>7FB4A14BD6D6F348</td>\n",
       "      <td>classic_bike</td>\n",
       "      <td>2023-07-01 16:44:21</td>\n",
       "      <td>2023-07-01 22:22:54</td>\n",
       "      <td>casual</td>\n",
       "      <td>0 days 05:38:33</td>\n",
       "      <td>338.550000</td>\n",
       "      <td>5.64</td>\n",
       "    </tr>\n",
       "    <tr>\n",
       "      <th>2741749</th>\n",
       "      <td>BB56A7317B167112</td>\n",
       "      <td>electric_bike</td>\n",
       "      <td>2023-10-23 19:26:05</td>\n",
       "      <td>2023-10-23 19:34:08</td>\n",
       "      <td>casual</td>\n",
       "      <td>0 days 00:08:03</td>\n",
       "      <td>8.050000</td>\n",
       "      <td>0.13</td>\n",
       "    </tr>\n",
       "    <tr>\n",
       "      <th>4791749</th>\n",
       "      <td>7F69B910E0E91EB7</td>\n",
       "      <td>classic_bike</td>\n",
       "      <td>2024-05-19 13:34:27</td>\n",
       "      <td>2024-05-19 15:38:03</td>\n",
       "      <td>casual</td>\n",
       "      <td>0 days 02:03:36</td>\n",
       "      <td>123.600000</td>\n",
       "      <td>2.06</td>\n",
       "    </tr>\n",
       "    <tr>\n",
       "      <th>66114</th>\n",
       "      <td>517C3247BF5A82FF</td>\n",
       "      <td>electric_bike</td>\n",
       "      <td>2023-07-13 18:40:33</td>\n",
       "      <td>2023-07-13 18:49:08</td>\n",
       "      <td>casual</td>\n",
       "      <td>0 days 00:08:35</td>\n",
       "      <td>8.583333</td>\n",
       "      <td>0.14</td>\n",
       "    </tr>\n",
       "  </tbody>\n",
       "</table>\n",
       "</div>"
      ],
      "text/plain": [
       "                  ride_id  rideable_type          started_at  \\\n",
       "3282738  34D45D7ECE2A038D   classic_bike 2023-12-07 11:35:54   \n",
       "180268   7FB4A14BD6D6F348   classic_bike 2023-07-01 16:44:21   \n",
       "2741749  BB56A7317B167112  electric_bike 2023-10-23 19:26:05   \n",
       "4791749  7F69B910E0E91EB7   classic_bike 2024-05-19 13:34:27   \n",
       "66114    517C3247BF5A82FF  electric_bike 2023-07-13 18:40:33   \n",
       "\n",
       "                   ended_at member_casual     ride_length  \\\n",
       "3282738 2023-12-07 11:38:18        member 0 days 00:02:24   \n",
       "180268  2023-07-01 22:22:54        casual 0 days 05:38:33   \n",
       "2741749 2023-10-23 19:34:08        casual 0 days 00:08:03   \n",
       "4791749 2024-05-19 15:38:03        casual 0 days 02:03:36   \n",
       "66114   2023-07-13 18:49:08        casual 0 days 00:08:35   \n",
       "\n",
       "         ride_length_minutes  ride_length_hours  \n",
       "3282738             2.400000               0.04  \n",
       "180268            338.550000               5.64  \n",
       "2741749             8.050000               0.13  \n",
       "4791749           123.600000               2.06  \n",
       "66114               8.583333               0.14  "
      ]
     },
     "execution_count": 32,
     "metadata": {},
     "output_type": "execute_result"
    }
   ],
   "source": [
    "data['ride_length_hours'] = (data['ride_length'].dt.total_seconds() / 3600).round(2)\n",
    "data.sample(5)"
   ]
  },
  {
   "cell_type": "code",
   "execution_count": 34,
   "metadata": {},
   "outputs": [
    {
     "data": {
      "text/html": [
       "<div>\n",
       "<style scoped>\n",
       "    .dataframe tbody tr th:only-of-type {\n",
       "        vertical-align: middle;\n",
       "    }\n",
       "\n",
       "    .dataframe tbody tr th {\n",
       "        vertical-align: top;\n",
       "    }\n",
       "\n",
       "    .dataframe thead th {\n",
       "        text-align: right;\n",
       "    }\n",
       "</style>\n",
       "<table border=\"1\" class=\"dataframe\">\n",
       "  <thead>\n",
       "    <tr style=\"text-align: right;\">\n",
       "      <th></th>\n",
       "      <th>ride_id</th>\n",
       "      <th>rideable_type</th>\n",
       "      <th>started_at</th>\n",
       "      <th>ended_at</th>\n",
       "      <th>member_casual</th>\n",
       "      <th>ride_length</th>\n",
       "      <th>ride_length_minutes</th>\n",
       "      <th>ride_length_hours</th>\n",
       "      <th>ride_length_formatted</th>\n",
       "    </tr>\n",
       "  </thead>\n",
       "  <tbody>\n",
       "    <tr>\n",
       "      <th>3256855</th>\n",
       "      <td>017FFACCED6F287C</td>\n",
       "      <td>electric_bike</td>\n",
       "      <td>2023-12-05 16:45:02</td>\n",
       "      <td>2023-12-05 16:49:23</td>\n",
       "      <td>member</td>\n",
       "      <td>0 days 00:04:21</td>\n",
       "      <td>4.350000</td>\n",
       "      <td>0.07</td>\n",
       "      <td>00:04:21</td>\n",
       "    </tr>\n",
       "    <tr>\n",
       "      <th>1380391</th>\n",
       "      <td>16D928FC00B5F258</td>\n",
       "      <td>classic_bike</td>\n",
       "      <td>2023-08-19 09:25:30</td>\n",
       "      <td>2023-08-19 09:34:38</td>\n",
       "      <td>casual</td>\n",
       "      <td>0 days 00:09:08</td>\n",
       "      <td>9.133333</td>\n",
       "      <td>0.15</td>\n",
       "      <td>00:09:08</td>\n",
       "    </tr>\n",
       "    <tr>\n",
       "      <th>775260</th>\n",
       "      <td>724CF9DA6084C7D2</td>\n",
       "      <td>classic_bike</td>\n",
       "      <td>2023-08-08 20:47:25</td>\n",
       "      <td>2023-08-08 20:57:32</td>\n",
       "      <td>member</td>\n",
       "      <td>0 days 00:10:07</td>\n",
       "      <td>10.116667</td>\n",
       "      <td>0.17</td>\n",
       "      <td>00:10:07</td>\n",
       "    </tr>\n",
       "    <tr>\n",
       "      <th>1183383</th>\n",
       "      <td>8F1906EDFA237379</td>\n",
       "      <td>electric_bike</td>\n",
       "      <td>2023-08-22 17:29:03</td>\n",
       "      <td>2023-08-22 17:37:22</td>\n",
       "      <td>casual</td>\n",
       "      <td>0 days 00:08:19</td>\n",
       "      <td>8.316667</td>\n",
       "      <td>0.14</td>\n",
       "      <td>00:08:19</td>\n",
       "    </tr>\n",
       "    <tr>\n",
       "      <th>714873</th>\n",
       "      <td>66CEC167B4581B3C</td>\n",
       "      <td>electric_bike</td>\n",
       "      <td>2023-07-16 23:28:07</td>\n",
       "      <td>2023-07-16 23:29:36</td>\n",
       "      <td>member</td>\n",
       "      <td>0 days 00:01:29</td>\n",
       "      <td>1.483333</td>\n",
       "      <td>0.02</td>\n",
       "      <td>00:01:29</td>\n",
       "    </tr>\n",
       "  </tbody>\n",
       "</table>\n",
       "</div>"
      ],
      "text/plain": [
       "                  ride_id  rideable_type          started_at  \\\n",
       "3256855  017FFACCED6F287C  electric_bike 2023-12-05 16:45:02   \n",
       "1380391  16D928FC00B5F258   classic_bike 2023-08-19 09:25:30   \n",
       "775260   724CF9DA6084C7D2   classic_bike 2023-08-08 20:47:25   \n",
       "1183383  8F1906EDFA237379  electric_bike 2023-08-22 17:29:03   \n",
       "714873   66CEC167B4581B3C  electric_bike 2023-07-16 23:28:07   \n",
       "\n",
       "                   ended_at member_casual     ride_length  \\\n",
       "3256855 2023-12-05 16:49:23        member 0 days 00:04:21   \n",
       "1380391 2023-08-19 09:34:38        casual 0 days 00:09:08   \n",
       "775260  2023-08-08 20:57:32        member 0 days 00:10:07   \n",
       "1183383 2023-08-22 17:37:22        casual 0 days 00:08:19   \n",
       "714873  2023-07-16 23:29:36        member 0 days 00:01:29   \n",
       "\n",
       "         ride_length_minutes  ride_length_hours ride_length_formatted  \n",
       "3256855             4.350000               0.07              00:04:21  \n",
       "1380391             9.133333               0.15              00:09:08  \n",
       "775260             10.116667               0.17              00:10:07  \n",
       "1183383             8.316667               0.14              00:08:19  \n",
       "714873              1.483333               0.02              00:01:29  "
      ]
     },
     "execution_count": 34,
     "metadata": {},
     "output_type": "execute_result"
    }
   ],
   "source": [
    "# Function to format Timedelta as HH:MM:SS\n",
    "def format_timedelta(td):\n",
    "    total_seconds = td.total_seconds()\n",
    "    hours, remainder = divmod(total_seconds, 3600)\n",
    "    minutes, seconds = divmod(remainder, 60)\n",
    "    return f\"{int(hours):02}:{int(minutes):02}:{int(seconds):02}\"\n",
    "\n",
    "# Apply the function to the 'ride_length' column\n",
    "data['ride_length_formatted'] = data['ride_length'].apply(format_timedelta)\n",
    "\n",
    "#print a sample\n",
    "data.sample(5)\n"
   ]
  },
  {
   "cell_type": "markdown",
   "metadata": {},
   "source": [
    "Great! Now we can drop the \"ride_length\", \"ride_length_minutes\", and \"ride_length_hours\" since we discovered a better way to visualize the ride_length"
   ]
  },
  {
   "cell_type": "code",
   "execution_count": 37,
   "metadata": {},
   "outputs": [
    {
     "data": {
      "text/html": [
       "<div>\n",
       "<style scoped>\n",
       "    .dataframe tbody tr th:only-of-type {\n",
       "        vertical-align: middle;\n",
       "    }\n",
       "\n",
       "    .dataframe tbody tr th {\n",
       "        vertical-align: top;\n",
       "    }\n",
       "\n",
       "    .dataframe thead th {\n",
       "        text-align: right;\n",
       "    }\n",
       "</style>\n",
       "<table border=\"1\" class=\"dataframe\">\n",
       "  <thead>\n",
       "    <tr style=\"text-align: right;\">\n",
       "      <th></th>\n",
       "      <th>ride_id</th>\n",
       "      <th>rideable_type</th>\n",
       "      <th>started_at</th>\n",
       "      <th>ended_at</th>\n",
       "      <th>member_casual</th>\n",
       "      <th>ride_length_formatted</th>\n",
       "    </tr>\n",
       "  </thead>\n",
       "  <tbody>\n",
       "    <tr>\n",
       "      <th>710242</th>\n",
       "      <td>7D02935B69429BC7</td>\n",
       "      <td>electric_bike</td>\n",
       "      <td>2023-07-31 17:48:30</td>\n",
       "      <td>2023-07-31 17:59:28</td>\n",
       "      <td>member</td>\n",
       "      <td>00:10:58</td>\n",
       "    </tr>\n",
       "    <tr>\n",
       "      <th>4448263</th>\n",
       "      <td>7261AE6815357E5A</td>\n",
       "      <td>electric_bike</td>\n",
       "      <td>2024-05-01 15:43:04</td>\n",
       "      <td>2024-05-01 16:07:57</td>\n",
       "      <td>member</td>\n",
       "      <td>00:24:53</td>\n",
       "    </tr>\n",
       "    <tr>\n",
       "      <th>1891938</th>\n",
       "      <td>05F1182F40989064</td>\n",
       "      <td>classic_bike</td>\n",
       "      <td>2023-09-04 13:16:00</td>\n",
       "      <td>2023-09-04 13:18:54</td>\n",
       "      <td>member</td>\n",
       "      <td>00:02:54</td>\n",
       "    </tr>\n",
       "    <tr>\n",
       "      <th>2044448</th>\n",
       "      <td>BB1B96D3C1EC9AB5</td>\n",
       "      <td>electric_bike</td>\n",
       "      <td>2023-09-02 18:16:23</td>\n",
       "      <td>2023-09-02 18:38:11</td>\n",
       "      <td>member</td>\n",
       "      <td>00:21:48</td>\n",
       "    </tr>\n",
       "    <tr>\n",
       "      <th>932772</th>\n",
       "      <td>2599EDEA181283A2</td>\n",
       "      <td>classic_bike</td>\n",
       "      <td>2023-08-23 07:08:16</td>\n",
       "      <td>2023-08-23 07:23:34</td>\n",
       "      <td>member</td>\n",
       "      <td>00:15:18</td>\n",
       "    </tr>\n",
       "  </tbody>\n",
       "</table>\n",
       "</div>"
      ],
      "text/plain": [
       "                  ride_id  rideable_type          started_at  \\\n",
       "710242   7D02935B69429BC7  electric_bike 2023-07-31 17:48:30   \n",
       "4448263  7261AE6815357E5A  electric_bike 2024-05-01 15:43:04   \n",
       "1891938  05F1182F40989064   classic_bike 2023-09-04 13:16:00   \n",
       "2044448  BB1B96D3C1EC9AB5  electric_bike 2023-09-02 18:16:23   \n",
       "932772   2599EDEA181283A2   classic_bike 2023-08-23 07:08:16   \n",
       "\n",
       "                   ended_at member_casual ride_length_formatted  \n",
       "710242  2023-07-31 17:59:28        member              00:10:58  \n",
       "4448263 2024-05-01 16:07:57        member              00:24:53  \n",
       "1891938 2023-09-04 13:18:54        member              00:02:54  \n",
       "2044448 2023-09-02 18:38:11        member              00:21:48  \n",
       "932772  2023-08-23 07:23:34        member              00:15:18  "
      ]
     },
     "execution_count": 37,
     "metadata": {},
     "output_type": "execute_result"
    }
   ],
   "source": [
    "#drop columns \"ride_length\", \"ride_length_minutes\", and \"ride_length_hours\" by assignt the columns to a variable \n",
    "\n",
    "cols_len_to_drop = [\"ride_length\",\"ride_length_minutes\",\"ride_length_hours\"]\n",
    "\n",
    "#droping the columns \n",
    "data = data.drop(columns=cols_len_to_drop)\n",
    "\n",
    "#print a sample\n",
    "data.sample(5)"
   ]
  },
  {
   "cell_type": "markdown",
   "metadata": {},
   "source": [
    "Great! Now, we can create 2 new columns for \"Year\" and \"Month\""
   ]
  },
  {
   "cell_type": "code",
   "execution_count": 38,
   "metadata": {},
   "outputs": [
    {
     "data": {
      "text/html": [
       "<div>\n",
       "<style scoped>\n",
       "    .dataframe tbody tr th:only-of-type {\n",
       "        vertical-align: middle;\n",
       "    }\n",
       "\n",
       "    .dataframe tbody tr th {\n",
       "        vertical-align: top;\n",
       "    }\n",
       "\n",
       "    .dataframe thead th {\n",
       "        text-align: right;\n",
       "    }\n",
       "</style>\n",
       "<table border=\"1\" class=\"dataframe\">\n",
       "  <thead>\n",
       "    <tr style=\"text-align: right;\">\n",
       "      <th></th>\n",
       "      <th>ride_id</th>\n",
       "      <th>rideable_type</th>\n",
       "      <th>started_at</th>\n",
       "      <th>ended_at</th>\n",
       "      <th>member_casual</th>\n",
       "      <th>ride_length_formatted</th>\n",
       "      <th>Year</th>\n",
       "    </tr>\n",
       "  </thead>\n",
       "  <tbody>\n",
       "    <tr>\n",
       "      <th>5354807</th>\n",
       "      <td>2D9C9CCD649FB857</td>\n",
       "      <td>classic_bike</td>\n",
       "      <td>2024-06-13 21:24:04.871</td>\n",
       "      <td>2024-06-13 22:09:19.914</td>\n",
       "      <td>casual</td>\n",
       "      <td>00:45:15</td>\n",
       "      <td>2024</td>\n",
       "    </tr>\n",
       "    <tr>\n",
       "      <th>1544687</th>\n",
       "      <td>7981A7FBDDAACF1C</td>\n",
       "      <td>electric_bike</td>\n",
       "      <td>2023-09-18 15:32:57.000</td>\n",
       "      <td>2023-09-18 15:39:43.000</td>\n",
       "      <td>member</td>\n",
       "      <td>00:06:46</td>\n",
       "      <td>2023</td>\n",
       "    </tr>\n",
       "    <tr>\n",
       "      <th>4588916</th>\n",
       "      <td>DFECC2A9F69AC2A5</td>\n",
       "      <td>classic_bike</td>\n",
       "      <td>2024-05-07 23:01:49.000</td>\n",
       "      <td>2024-05-07 23:04:44.000</td>\n",
       "      <td>member</td>\n",
       "      <td>00:02:55</td>\n",
       "      <td>2024</td>\n",
       "    </tr>\n",
       "    <tr>\n",
       "      <th>1575181</th>\n",
       "      <td>C8A741088A6F3929</td>\n",
       "      <td>electric_bike</td>\n",
       "      <td>2023-09-30 18:41:15.000</td>\n",
       "      <td>2023-09-30 18:44:47.000</td>\n",
       "      <td>casual</td>\n",
       "      <td>00:03:32</td>\n",
       "      <td>2023</td>\n",
       "    </tr>\n",
       "    <tr>\n",
       "      <th>4498323</th>\n",
       "      <td>839B1479004D8A97</td>\n",
       "      <td>electric_bike</td>\n",
       "      <td>2024-05-04 16:37:37.000</td>\n",
       "      <td>2024-05-04 16:43:50.000</td>\n",
       "      <td>casual</td>\n",
       "      <td>00:06:13</td>\n",
       "      <td>2024</td>\n",
       "    </tr>\n",
       "  </tbody>\n",
       "</table>\n",
       "</div>"
      ],
      "text/plain": [
       "                  ride_id  rideable_type              started_at  \\\n",
       "5354807  2D9C9CCD649FB857   classic_bike 2024-06-13 21:24:04.871   \n",
       "1544687  7981A7FBDDAACF1C  electric_bike 2023-09-18 15:32:57.000   \n",
       "4588916  DFECC2A9F69AC2A5   classic_bike 2024-05-07 23:01:49.000   \n",
       "1575181  C8A741088A6F3929  electric_bike 2023-09-30 18:41:15.000   \n",
       "4498323  839B1479004D8A97  electric_bike 2024-05-04 16:37:37.000   \n",
       "\n",
       "                       ended_at member_casual ride_length_formatted  Year  \n",
       "5354807 2024-06-13 22:09:19.914        casual              00:45:15  2024  \n",
       "1544687 2023-09-18 15:39:43.000        member              00:06:46  2023  \n",
       "4588916 2024-05-07 23:04:44.000        member              00:02:55  2024  \n",
       "1575181 2023-09-30 18:44:47.000        casual              00:03:32  2023  \n",
       "4498323 2024-05-04 16:43:50.000        casual              00:06:13  2024  "
      ]
     },
     "execution_count": 38,
     "metadata": {},
     "output_type": "execute_result"
    }
   ],
   "source": [
    "#Creating a column for year \n",
    "data['Year'] = pd.DatetimeIndex(data['started_at']).year\n",
    "\n",
    "#print a sample(5)\n",
    "data.sample(5)"
   ]
  },
  {
   "cell_type": "code",
   "execution_count": 39,
   "metadata": {},
   "outputs": [
    {
     "data": {
      "text/html": [
       "<div>\n",
       "<style scoped>\n",
       "    .dataframe tbody tr th:only-of-type {\n",
       "        vertical-align: middle;\n",
       "    }\n",
       "\n",
       "    .dataframe tbody tr th {\n",
       "        vertical-align: top;\n",
       "    }\n",
       "\n",
       "    .dataframe thead th {\n",
       "        text-align: right;\n",
       "    }\n",
       "</style>\n",
       "<table border=\"1\" class=\"dataframe\">\n",
       "  <thead>\n",
       "    <tr style=\"text-align: right;\">\n",
       "      <th></th>\n",
       "      <th>ride_id</th>\n",
       "      <th>rideable_type</th>\n",
       "      <th>started_at</th>\n",
       "      <th>ended_at</th>\n",
       "      <th>member_casual</th>\n",
       "      <th>ride_length_formatted</th>\n",
       "      <th>Year</th>\n",
       "      <th>Month</th>\n",
       "    </tr>\n",
       "  </thead>\n",
       "  <tbody>\n",
       "    <tr>\n",
       "      <th>2310256</th>\n",
       "      <td>9033AC83849ABF7B</td>\n",
       "      <td>classic_bike</td>\n",
       "      <td>2023-10-06 08:48:57.000</td>\n",
       "      <td>2023-10-06 08:53:09.000</td>\n",
       "      <td>member</td>\n",
       "      <td>00:04:12</td>\n",
       "      <td>2023</td>\n",
       "      <td>10</td>\n",
       "    </tr>\n",
       "    <tr>\n",
       "      <th>278988</th>\n",
       "      <td>971AAD2EA25CAA9A</td>\n",
       "      <td>electric_bike</td>\n",
       "      <td>2023-07-17 12:11:36.000</td>\n",
       "      <td>2023-07-17 12:14:02.000</td>\n",
       "      <td>casual</td>\n",
       "      <td>00:02:26</td>\n",
       "      <td>2023</td>\n",
       "      <td>7</td>\n",
       "    </tr>\n",
       "    <tr>\n",
       "      <th>5301431</th>\n",
       "      <td>2B8F2B0DE02C37F4</td>\n",
       "      <td>classic_bike</td>\n",
       "      <td>2024-06-05 17:16:24.624</td>\n",
       "      <td>2024-06-05 17:20:03.668</td>\n",
       "      <td>member</td>\n",
       "      <td>00:03:39</td>\n",
       "      <td>2024</td>\n",
       "      <td>6</td>\n",
       "    </tr>\n",
       "    <tr>\n",
       "      <th>230420</th>\n",
       "      <td>536BC321ED78885B</td>\n",
       "      <td>classic_bike</td>\n",
       "      <td>2023-07-05 08:47:34.000</td>\n",
       "      <td>2023-07-05 09:06:43.000</td>\n",
       "      <td>member</td>\n",
       "      <td>00:19:09</td>\n",
       "      <td>2023</td>\n",
       "      <td>7</td>\n",
       "    </tr>\n",
       "    <tr>\n",
       "      <th>219955</th>\n",
       "      <td>E8D32C491694D51A</td>\n",
       "      <td>electric_bike</td>\n",
       "      <td>2023-07-10 08:30:37.000</td>\n",
       "      <td>2023-07-10 08:41:28.000</td>\n",
       "      <td>casual</td>\n",
       "      <td>00:10:51</td>\n",
       "      <td>2023</td>\n",
       "      <td>7</td>\n",
       "    </tr>\n",
       "  </tbody>\n",
       "</table>\n",
       "</div>"
      ],
      "text/plain": [
       "                  ride_id  rideable_type              started_at  \\\n",
       "2310256  9033AC83849ABF7B   classic_bike 2023-10-06 08:48:57.000   \n",
       "278988   971AAD2EA25CAA9A  electric_bike 2023-07-17 12:11:36.000   \n",
       "5301431  2B8F2B0DE02C37F4   classic_bike 2024-06-05 17:16:24.624   \n",
       "230420   536BC321ED78885B   classic_bike 2023-07-05 08:47:34.000   \n",
       "219955   E8D32C491694D51A  electric_bike 2023-07-10 08:30:37.000   \n",
       "\n",
       "                       ended_at member_casual ride_length_formatted  Year  \\\n",
       "2310256 2023-10-06 08:53:09.000        member              00:04:12  2023   \n",
       "278988  2023-07-17 12:14:02.000        casual              00:02:26  2023   \n",
       "5301431 2024-06-05 17:20:03.668        member              00:03:39  2024   \n",
       "230420  2023-07-05 09:06:43.000        member              00:19:09  2023   \n",
       "219955  2023-07-10 08:41:28.000        casual              00:10:51  2023   \n",
       "\n",
       "         Month  \n",
       "2310256     10  \n",
       "278988       7  \n",
       "5301431      6  \n",
       "230420       7  \n",
       "219955       7  "
      ]
     },
     "execution_count": 39,
     "metadata": {},
     "output_type": "execute_result"
    }
   ],
   "source": [
    "#Creating a column for month \n",
    "data['Month'] = pd.DatetimeIndex(data['started_at']).month\n",
    "\n",
    "#print a sample(5)\n",
    "data.sample(5)"
   ]
  },
  {
   "cell_type": "markdown",
   "metadata": {},
   "source": [
    "It seems we have a good data frame to initiate our analysis! Let's save it into a new .csv file!"
   ]
  },
  {
   "cell_type": "code",
   "execution_count": 49,
   "metadata": {},
   "outputs": [],
   "source": [
    " #save it into a pdf\n",
    "data.to_csv('results_clean.csv', encoding='utf8')"
   ]
  },
  {
   "cell_type": "markdown",
   "metadata": {},
   "source": [
    "### Analysing phase \n",
    "\n",
    "After cleaning the data and saving the clean results into a new .csv file, we can import it and assign it to a variable to start out analysis using **numpy**\n",
    "\n"
   ]
  },
  {
   "cell_type": "code",
   "execution_count": 1,
   "metadata": {},
   "outputs": [
    {
     "data": {
      "text/html": [
       "<div>\n",
       "<style scoped>\n",
       "    .dataframe tbody tr th:only-of-type {\n",
       "        vertical-align: middle;\n",
       "    }\n",
       "\n",
       "    .dataframe tbody tr th {\n",
       "        vertical-align: top;\n",
       "    }\n",
       "\n",
       "    .dataframe thead th {\n",
       "        text-align: right;\n",
       "    }\n",
       "</style>\n",
       "<table border=\"1\" class=\"dataframe\">\n",
       "  <thead>\n",
       "    <tr style=\"text-align: right;\">\n",
       "      <th></th>\n",
       "      <th>Unnamed: 0</th>\n",
       "      <th>ride_id</th>\n",
       "      <th>rideable_type</th>\n",
       "      <th>started_at</th>\n",
       "      <th>ended_at</th>\n",
       "      <th>member_casual</th>\n",
       "      <th>ride_length_formatted</th>\n",
       "      <th>Year</th>\n",
       "      <th>Month</th>\n",
       "    </tr>\n",
       "  </thead>\n",
       "  <tbody>\n",
       "    <tr>\n",
       "      <th>448938</th>\n",
       "      <td>448938</td>\n",
       "      <td>995A2F98EC246E44</td>\n",
       "      <td>classic_bike</td>\n",
       "      <td>2023-07-18 07:30:45</td>\n",
       "      <td>2023-07-18 07:36:39</td>\n",
       "      <td>member</td>\n",
       "      <td>00:05:54</td>\n",
       "      <td>2023</td>\n",
       "      <td>7</td>\n",
       "    </tr>\n",
       "    <tr>\n",
       "      <th>2266385</th>\n",
       "      <td>2266385</td>\n",
       "      <td>493338265840B30E</td>\n",
       "      <td>classic_bike</td>\n",
       "      <td>2023-10-23 11:52:27</td>\n",
       "      <td>2023-10-23 12:01:17</td>\n",
       "      <td>casual</td>\n",
       "      <td>00:08:50</td>\n",
       "      <td>2023</td>\n",
       "      <td>10</td>\n",
       "    </tr>\n",
       "    <tr>\n",
       "      <th>5205478</th>\n",
       "      <td>5205478</td>\n",
       "      <td>7D09E6447AE6D3B6</td>\n",
       "      <td>electric_bike</td>\n",
       "      <td>2024-06-07 23:27:52.126</td>\n",
       "      <td>2024-06-07 23:42:06.395</td>\n",
       "      <td>member</td>\n",
       "      <td>00:14:14</td>\n",
       "      <td>2024</td>\n",
       "      <td>6</td>\n",
       "    </tr>\n",
       "    <tr>\n",
       "      <th>4321895</th>\n",
       "      <td>4321895</td>\n",
       "      <td>579732859E8D41DD</td>\n",
       "      <td>electric_bike</td>\n",
       "      <td>2024-04-13 16:59:05</td>\n",
       "      <td>2024-04-13 17:09:00</td>\n",
       "      <td>member</td>\n",
       "      <td>00:09:55</td>\n",
       "      <td>2024</td>\n",
       "      <td>4</td>\n",
       "    </tr>\n",
       "    <tr>\n",
       "      <th>6192692</th>\n",
       "      <td>6192692</td>\n",
       "      <td>3BFB6A94F4D46F72</td>\n",
       "      <td>classic_bike</td>\n",
       "      <td>2024-07-12 16:24:09.319</td>\n",
       "      <td>2024-07-12 16:27:50.006</td>\n",
       "      <td>member</td>\n",
       "      <td>00:03:40</td>\n",
       "      <td>2024</td>\n",
       "      <td>7</td>\n",
       "    </tr>\n",
       "  </tbody>\n",
       "</table>\n",
       "</div>"
      ],
      "text/plain": [
       "         Unnamed: 0           ride_id  rideable_type               started_at  \\\n",
       "448938       448938  995A2F98EC246E44   classic_bike      2023-07-18 07:30:45   \n",
       "2266385     2266385  493338265840B30E   classic_bike      2023-10-23 11:52:27   \n",
       "5205478     5205478  7D09E6447AE6D3B6  electric_bike  2024-06-07 23:27:52.126   \n",
       "4321895     4321895  579732859E8D41DD  electric_bike      2024-04-13 16:59:05   \n",
       "6192692     6192692  3BFB6A94F4D46F72   classic_bike  2024-07-12 16:24:09.319   \n",
       "\n",
       "                        ended_at member_casual ride_length_formatted  Year  \\\n",
       "448938       2023-07-18 07:36:39        member              00:05:54  2023   \n",
       "2266385      2023-10-23 12:01:17        casual              00:08:50  2023   \n",
       "5205478  2024-06-07 23:42:06.395        member              00:14:14  2024   \n",
       "4321895      2024-04-13 17:09:00        member              00:09:55  2024   \n",
       "6192692  2024-07-12 16:27:50.006        member              00:03:40  2024   \n",
       "\n",
       "         Month  \n",
       "448938       7  \n",
       "2266385     10  \n",
       "5205478      6  \n",
       "4321895      4  \n",
       "6192692      7  "
      ]
     },
     "execution_count": 1,
     "metadata": {},
     "output_type": "execute_result"
    }
   ],
   "source": [
    "#import the cleaned data assigned into a variable \n",
    "import pandas as pd\n",
    "import numpy as np\n",
    "dataClean = pd.read_csv(\"results_clean.csv\", sep=\",\")\n",
    "dataClean.sample(5)"
   ]
  },
  {
   "cell_type": "code",
   "execution_count": 2,
   "metadata": {},
   "outputs": [
    {
     "data": {
      "text/plain": [
       "Unnamed: 0                int64\n",
       "ride_id                  object\n",
       "rideable_type            object\n",
       "started_at               object\n",
       "ended_at                 object\n",
       "member_casual            object\n",
       "ride_length_formatted    object\n",
       "Year                      int64\n",
       "Month                     int64\n",
       "dtype: object"
      ]
     },
     "execution_count": 2,
     "metadata": {},
     "output_type": "execute_result"
    }
   ],
   "source": [
    "#checking the data types \n",
    "dataClean.dtypes"
   ]
  },
  {
   "cell_type": "code",
   "execution_count": 3,
   "metadata": {},
   "outputs": [
    {
     "data": {
      "text/plain": [
       "Unnamed: 0                        int64\n",
       "ride_id                          string\n",
       "rideable_type                    string\n",
       "started_at               datetime64[ns]\n",
       "ended_at                 datetime64[ns]\n",
       "member_casual                    string\n",
       "ride_length_formatted            object\n",
       "Year                              int64\n",
       "Month                             int64\n",
       "dtype: object"
      ]
     },
     "execution_count": 3,
     "metadata": {},
     "output_type": "execute_result"
    }
   ],
   "source": [
    "#convert the 'ride_id', 'rideable_type', 'member_casual' columns from object to string\n",
    "cols2_obj_to_str = ['ride_id', 'rideable_type', 'member_casual'] #assign the columns to a variable \n",
    "for col in cols2_obj_to_str: #using a loop to convert\n",
    "    dataClean[col] = dataClean[col].astype(pd.StringDtype())\n",
    "\n",
    "#convert the 'started_at', 'ended_at', columns from object to datetime\n",
    "cols2_obj_to_date = ['started_at','ended_at'] #assign the columns to a variable \n",
    "for col in cols2_obj_to_date: #using a loop to convert\n",
    "    dataClean[col] = pd.to_datetime(dataClean[col])\n",
    "\n",
    "# Convert the time strings to timedelta\n",
    "ride_length = dataClean['ride_length_formatted'] #assign the columns to a variable \n",
    "ride_length = pd.to_timedelta(ride_length)\n",
    "\n",
    "\n",
    "#print the dtypes to see if they are converted\n",
    "dataClean.dtypes\n"
   ]
  },
  {
   "cell_type": "markdown",
   "metadata": {},
   "source": [
    "We are going to explore the data, group it and apply aggregation functions like sum(), mean(), count(), min(), max()"
   ]
  },
  {
   "cell_type": "code",
   "execution_count": 15,
   "metadata": {},
   "outputs": [
    {
     "data": {
      "text/plain": [
       "member    4113411\n",
       "casual    2369932\n",
       "Name: member_casual, dtype: int64"
      ]
     },
     "execution_count": 15,
     "metadata": {},
     "output_type": "execute_result"
    }
   ],
   "source": [
    "#Checking how many annual members and casual riders we have\n",
    "dataClean['member_casual'].value_counts()"
   ]
  },
  {
   "cell_type": "markdown",
   "metadata": {},
   "source": [
    "So, the majority of the users in the previous 12 months was composed my annual members (4.113.411). We have only 2.369.932 casual riders. Let's check what this represents in percentage"
   ]
  },
  {
   "cell_type": "code",
   "execution_count": 14,
   "metadata": {},
   "outputs": [
    {
     "data": {
      "text/plain": [
       "member    63.445833\n",
       "casual    36.554167\n",
       "Name: member_casual, dtype: float64"
      ]
     },
     "execution_count": 14,
     "metadata": {},
     "output_type": "execute_result"
    }
   ],
   "source": [
    "#Checking the percentage of members and casual riders by dividing the data and multiplying by 100\n",
    "(dataClean['member_casual'].value_counts()/6483343)*100"
   ]
  },
  {
   "cell_type": "markdown",
   "metadata": {},
   "source": [
    "The annual members represent **63,5%** of all the rides in the previous 12 months and the casual riders only **35,5%**.\n",
    "\n",
    "Let's to the same thing for the type of bike"
   ]
  },
  {
   "cell_type": "code",
   "execution_count": 19,
   "metadata": {},
   "outputs": [
    {
     "data": {
      "text/plain": [
       "electric_bike    3224572\n",
       "classic_bike     3224390\n",
       "docked_bike        34381\n",
       "Name: rideable_type, dtype: int64"
      ]
     },
     "execution_count": 19,
     "metadata": {},
     "output_type": "execute_result"
    }
   ],
   "source": [
    "#Checking the distribution of types of bikes used in the previous 12 months\n",
    "dataClean['rideable_type'].value_counts()\n"
   ]
  },
  {
   "cell_type": "code",
   "execution_count": 18,
   "metadata": {},
   "outputs": [
    {
     "data": {
      "text/plain": [
       "electric_bike    49.736255\n",
       "classic_bike     49.733448\n",
       "docked_bike       0.530297\n",
       "Name: rideable_type, dtype: float64"
      ]
     },
     "execution_count": 18,
     "metadata": {},
     "output_type": "execute_result"
    }
   ],
   "source": [
    "#Checking the percentage of bike types by dividing the data and multiplying by 100\n",
    "(dataClean['rideable_type'].value_counts()/6483343)*100"
   ]
  },
  {
   "cell_type": "markdown",
   "metadata": {},
   "source": [
    "In the previous 12 months, both eletric and classic bikes were equally used by all users, almost 50/50 in the general preference. However, we must see if members and casual riders have a specific preference for the type of bike. "
   ]
  },
  {
   "cell_type": "code",
   "execution_count": 8,
   "metadata": {},
   "outputs": [
    {
     "name": "stdout",
     "output_type": "stream",
     "text": [
      "  member_casual  rideable_type    count  total_count  proportion\n",
      "0        casual   classic_bike  1124432      3224390    0.348727\n",
      "1        member   classic_bike  2099958      3224390    0.651273\n",
      "2        casual    docked_bike    34381        34381    1.000000\n",
      "3        casual  electric_bike  1211119      3224572    0.375591\n",
      "4        member  electric_bike  2013453      3224572    0.624409\n"
     ]
    }
   ],
   "source": [
    "# Grouping the data\n",
    "members_types = dataClean.groupby(['member_casual', 'rideable_type']).size().reset_index(name='count')\n",
    "\n",
    "# Calculate the total counts per user type\n",
    "total_counts = dataClean.groupby('rideable_type').size().reset_index(name='total_count')\n",
    "\n",
    "# Merge the total counts with the grouped data\n",
    "merged = pd.merge(members_types, total_counts, on='rideable_type')\n",
    "\n",
    "# Calculate the proportion\n",
    "merged['proportion'] = merged['count'] / merged['total_count']\n",
    "\n",
    "print(merged)\n",
    "\n"
   ]
  },
  {
   "cell_type": "markdown",
   "metadata": {},
   "source": [
    "So, there is not a preference between the type of bike, it's almost the same. However, let's see if what type of member tends to bike longer than other. Before that, let's calculate the max, the min, and the average of the 'ride_length'"
   ]
  },
  {
   "cell_type": "code",
   "execution_count": 5,
   "metadata": {},
   "outputs": [
    {
     "name": "stdout",
     "output_type": "stream",
     "text": [
      "Max ride length is 68 days 09:29:04\n",
      "Min ride length is -12 days +09:15:13\n",
      "Mean ride length is 0 days 00:18:27.836697519\n"
     ]
    }
   ],
   "source": [
    "# Assign the column 'ride_length_formatted' to a variable\n",
    "ride_length = dataClean['ride_length_formatted']\n",
    "\n",
    "# Convert the time strings to timedelta\n",
    "ride_length = pd.to_timedelta(ride_length)\n",
    "\n",
    "# Convert timedelta to total seconds\n",
    "ride_length_seconds = ride_length.dt.total_seconds()\n",
    "\n",
    "# Determine the max, min, and mean in seconds\n",
    "max_value = ride_length_seconds.max()\n",
    "min_value = ride_length_seconds.min()\n",
    "mean_value = ride_length_seconds.mean()\n",
    "\n",
    "# Convert seconds back to HH:MM:SS format if desired\n",
    "max_time = pd.to_timedelta(max_value, unit='s')\n",
    "min_time = pd.to_timedelta(min_value, unit='s')\n",
    "mean_time = pd.to_timedelta(mean_value, unit='s')\n",
    "\n",
    "print(f'Max ride length is {max_time}')\n",
    "print(f'Min ride length is {min_time}')\n",
    "print(f'Mean ride length is {mean_time}')\n"
   ]
  },
  {
   "cell_type": "markdown",
   "metadata": {},
   "source": [
    "We can clearly see that with this format 'deltatime' it's not possible to calculate the max, min, and mean ride_lengths. Let's try to create another column to the dataframe "
   ]
  },
  {
   "cell_type": "code",
   "execution_count": 6,
   "metadata": {},
   "outputs": [
    {
     "data": {
      "text/html": [
       "<div>\n",
       "<style scoped>\n",
       "    .dataframe tbody tr th:only-of-type {\n",
       "        vertical-align: middle;\n",
       "    }\n",
       "\n",
       "    .dataframe tbody tr th {\n",
       "        vertical-align: top;\n",
       "    }\n",
       "\n",
       "    .dataframe thead th {\n",
       "        text-align: right;\n",
       "    }\n",
       "</style>\n",
       "<table border=\"1\" class=\"dataframe\">\n",
       "  <thead>\n",
       "    <tr style=\"text-align: right;\">\n",
       "      <th></th>\n",
       "      <th>Unnamed: 0</th>\n",
       "      <th>ride_id</th>\n",
       "      <th>rideable_type</th>\n",
       "      <th>started_at</th>\n",
       "      <th>ended_at</th>\n",
       "      <th>member_casual</th>\n",
       "      <th>ride_length_formatted</th>\n",
       "      <th>Year</th>\n",
       "      <th>Month</th>\n",
       "      <th>ride_length</th>\n",
       "    </tr>\n",
       "  </thead>\n",
       "  <tbody>\n",
       "    <tr>\n",
       "      <th>4821673</th>\n",
       "      <td>4821673</td>\n",
       "      <td>E68140BC526728BA</td>\n",
       "      <td>electric_bike</td>\n",
       "      <td>2024-05-12 16:00:20.000</td>\n",
       "      <td>2024-05-12 16:31:26.000</td>\n",
       "      <td>casual</td>\n",
       "      <td>00:31:06</td>\n",
       "      <td>2024</td>\n",
       "      <td>5</td>\n",
       "      <td>0h 31m</td>\n",
       "    </tr>\n",
       "    <tr>\n",
       "      <th>174857</th>\n",
       "      <td>174857</td>\n",
       "      <td>EFFE7A612F1C4A52</td>\n",
       "      <td>electric_bike</td>\n",
       "      <td>2023-07-22 19:35:50.000</td>\n",
       "      <td>2023-07-22 19:37:37.000</td>\n",
       "      <td>casual</td>\n",
       "      <td>00:01:47</td>\n",
       "      <td>2023</td>\n",
       "      <td>7</td>\n",
       "      <td>0h 1m</td>\n",
       "    </tr>\n",
       "    <tr>\n",
       "      <th>2668694</th>\n",
       "      <td>2668694</td>\n",
       "      <td>F14B159533DA42A8</td>\n",
       "      <td>electric_bike</td>\n",
       "      <td>2023-10-12 17:59:08.000</td>\n",
       "      <td>2023-10-12 18:06:28.000</td>\n",
       "      <td>member</td>\n",
       "      <td>00:07:20</td>\n",
       "      <td>2023</td>\n",
       "      <td>10</td>\n",
       "      <td>0h 7m</td>\n",
       "    </tr>\n",
       "    <tr>\n",
       "      <th>2177564</th>\n",
       "      <td>2177564</td>\n",
       "      <td>7A98773ADC5D923D</td>\n",
       "      <td>electric_bike</td>\n",
       "      <td>2023-09-07 17:46:50.000</td>\n",
       "      <td>2023-09-07 17:52:17.000</td>\n",
       "      <td>casual</td>\n",
       "      <td>00:05:27</td>\n",
       "      <td>2023</td>\n",
       "      <td>9</td>\n",
       "      <td>0h 5m</td>\n",
       "    </tr>\n",
       "    <tr>\n",
       "      <th>5249974</th>\n",
       "      <td>5249974</td>\n",
       "      <td>0C11D99C409DB280</td>\n",
       "      <td>electric_bike</td>\n",
       "      <td>2024-06-22 12:04:49.474</td>\n",
       "      <td>2024-06-22 12:26:06.055</td>\n",
       "      <td>member</td>\n",
       "      <td>00:21:16</td>\n",
       "      <td>2024</td>\n",
       "      <td>6</td>\n",
       "      <td>0h 21m</td>\n",
       "    </tr>\n",
       "  </tbody>\n",
       "</table>\n",
       "</div>"
      ],
      "text/plain": [
       "         Unnamed: 0           ride_id  rideable_type              started_at  \\\n",
       "4821673     4821673  E68140BC526728BA  electric_bike 2024-05-12 16:00:20.000   \n",
       "174857       174857  EFFE7A612F1C4A52  electric_bike 2023-07-22 19:35:50.000   \n",
       "2668694     2668694  F14B159533DA42A8  electric_bike 2023-10-12 17:59:08.000   \n",
       "2177564     2177564  7A98773ADC5D923D  electric_bike 2023-09-07 17:46:50.000   \n",
       "5249974     5249974  0C11D99C409DB280  electric_bike 2024-06-22 12:04:49.474   \n",
       "\n",
       "                       ended_at member_casual ride_length_formatted  Year  \\\n",
       "4821673 2024-05-12 16:31:26.000        casual              00:31:06  2024   \n",
       "174857  2023-07-22 19:37:37.000        casual              00:01:47  2023   \n",
       "2668694 2023-10-12 18:06:28.000        member              00:07:20  2023   \n",
       "2177564 2023-09-07 17:52:17.000        casual              00:05:27  2023   \n",
       "5249974 2024-06-22 12:26:06.055        member              00:21:16  2024   \n",
       "\n",
       "         Month ride_length  \n",
       "4821673      5      0h 31m  \n",
       "174857       7       0h 1m  \n",
       "2668694     10       0h 7m  \n",
       "2177564      9       0h 5m  \n",
       "5249974      6      0h 21m  "
      ]
     },
     "execution_count": 6,
     "metadata": {},
     "output_type": "execute_result"
    }
   ],
   "source": [
    "# Calculate ride_length in minutes\n",
    "dataClean['ride_length'] = (dataClean['ended_at'] - dataClean['started_at']).dt.total_seconds() / 60\n",
    "\n",
    "# Extract the hours and minutes\n",
    "dataClean['ride_length'] = dataClean['ride_length'].apply(lambda x: f\"{int(x // 60)}h {int(x % 60)}m\")\n",
    "\n",
    "# Display the DataFrame with the new column\n",
    "dataClean.sample(5)"
   ]
  },
  {
   "cell_type": "markdown",
   "metadata": {},
   "source": [
    "Now, let's try to calculate the max, min, and mean of the new colum 'ride_length'"
   ]
  },
  {
   "cell_type": "code",
   "execution_count": 7,
   "metadata": {},
   "outputs": [
    {
     "name": "stdout",
     "output_type": "stream",
     "text": [
      "Max ride length: 1641h 29m\n",
      "Min ride length: -278h 23m\n",
      "Mean ride length: 0h 18m\n"
     ]
    }
   ],
   "source": [
    "# Calculate max, min, and mean ride_length in minutes\n",
    "ride_length_minutes = (dataClean['ended_at'] - dataClean['started_at']).dt.total_seconds() / 60\n",
    "max_ride_length = ride_length_minutes.max()\n",
    "min_ride_length = ride_length_minutes.min()\n",
    "mean_ride_length = ride_length_minutes.mean()\n",
    "\n",
    "print(f\"Max ride length: {int(max_ride_length // 60)}h {int(max_ride_length % 60)}m\")\n",
    "print(f\"Min ride length: {int(min_ride_length // 60)}h {int(min_ride_length % 60)}m\")\n",
    "print(f\"Mean ride length: {int(mean_ride_length // 60)}h {int(mean_ride_length % 60)}m\")"
   ]
  },
  {
   "cell_type": "markdown",
   "metadata": {},
   "source": [
    "Ok, now we can spot that tthere are likely some issues with the dataset, such as: Incorrect Timestamps and Data Entry Errors that were not spotted during the Cleaning phase. Before going on, we must correct this by first finding the rows where the ride length is negative than finding outliers. "
   ]
  },
  {
   "cell_type": "code",
   "execution_count": 11,
   "metadata": {},
   "outputs": [
    {
     "name": "stdout",
     "output_type": "stream",
     "text": [
      "Negative Durations:\n",
      "         Unnamed: 0           ride_id  rideable_type          started_at  \\\n",
      "234768       234768  5597B82879097D80  electric_bike 2023-07-13 19:36:16   \n",
      "251240       251240  09632A75482D0DEE  electric_bike 2023-07-30 01:21:48   \n",
      "299166       299166  680495115CD6F9D4  electric_bike 2023-07-21 15:57:38   \n",
      "311998       311998  958E9E446D3FBE60  electric_bike 2023-07-13 19:52:00   \n",
      "323959       323959  7F26C9FD6FC842C8  electric_bike 2023-07-23 12:39:17   \n",
      "...             ...               ...            ...                 ...   \n",
      "5018922     5018922  54EDCF8C15FE17CF  electric_bike 2024-05-31 20:21:03   \n",
      "5020483     5020483  ED470B3CD09657DF  electric_bike 2024-05-12 15:10:17   \n",
      "5021644     5021644  AFD530265FD8AF94  electric_bike 2024-05-16 20:06:59   \n",
      "5022017     5022017  9A4225B190E96360  electric_bike 2024-05-10 15:15:50   \n",
      "5022916     5022916  A9C1239F1B268657  electric_bike 2024-05-31 12:36:53   \n",
      "\n",
      "                   ended_at member_casual ride_length_formatted  Year  Month  \\\n",
      "234768  2023-07-13 19:36:03        casual              -1:59:47  2023      7   \n",
      "251240  2023-07-30 01:21:44        casual              -1:59:56  2023      7   \n",
      "299166  2023-07-21 15:55:10        member              -1:57:32  2023      7   \n",
      "311998  2023-07-13 19:49:34        casual              -1:57:34  2023      7   \n",
      "323959  2023-07-23 12:36:18        casual              -1:57:01  2023      7   \n",
      "...                     ...           ...                   ...   ...    ...   \n",
      "5018922 2024-05-31 20:21:02        member              -1:59:59  2024      5   \n",
      "5020483 2024-05-12 15:10:12        casual              -1:59:55  2024      5   \n",
      "5021644 2024-05-16 20:06:58        member              -1:59:59  2024      5   \n",
      "5022017 2024-05-08 17:27:31        member             -46:11:41  2024      5   \n",
      "5022916 2024-05-31 12:36:51        casual              -1:59:58  2024      5   \n",
      "\n",
      "        ride_length  \n",
      "234768      -1h 59m  \n",
      "251240      -1h 59m  \n",
      "299166      -1h 57m  \n",
      "311998      -1h 57m  \n",
      "323959      -1h 57m  \n",
      "...             ...  \n",
      "5018922     -1h 59m  \n",
      "5020483     -1h 59m  \n",
      "5021644     -1h 59m  \n",
      "5022017    -46h 11m  \n",
      "5022916     -1h 59m  \n",
      "\n",
      "[434 rows x 10 columns]\n"
     ]
    }
   ],
   "source": [
    "# Find rows where the ride length is negative\n",
    "negative_durations = dataClean[dataClean['ended_at'] < dataClean['started_at']]\n",
    "\n",
    "print(\"Negative Durations:\")\n",
    "print(negative_durations)\n"
   ]
  },
  {
   "cell_type": "markdown",
   "metadata": {},
   "source": [
    "We have 434 rows with ride_length negative because the 'ended_at' data was wrongly populated. The best option is to drop this rows containing errors. "
   ]
  },
  {
   "cell_type": "code",
   "execution_count": 26,
   "metadata": {},
   "outputs": [
    {
     "data": {
      "text/plain": [
       "6482909"
      ]
     },
     "execution_count": 26,
     "metadata": {},
     "output_type": "execute_result"
    }
   ],
   "source": [
    "# Calculate ride_length in minutes again for outlier detection\n",
    "dataClean['ride_length_minutes'] = (dataClean['ended_at'] - dataClean['started_at']).dt.total_seconds() / 60\n",
    "\n",
    "# Remove negative durations\n",
    "df_cleaned = dataClean[dataClean['ride_length_minutes'] >= 0] \n",
    "len(df_cleaned) #the new length should be 6.482.909\n"
   ]
  },
  {
   "cell_type": "markdown",
   "metadata": {},
   "source": [
    "Ok, now let's check for more outliers in ride_length"
   ]
  },
  {
   "cell_type": "code",
   "execution_count": 18,
   "metadata": {},
   "outputs": [
    {
     "name": "stdout",
     "output_type": "stream",
     "text": [
      "Summary Statistics:\n",
      "count    6.482909e+06\n",
      "mean     1.848878e+01\n",
      "std      1.509346e+02\n",
      "min      0.000000e+00\n",
      "25%      5.626683e+00\n",
      "50%      9.883333e+00\n",
      "75%      1.756667e+01\n",
      "max      9.848907e+04\n",
      "Name: ride_length_minutes, dtype: float64\n"
     ]
    }
   ],
   "source": [
    "# Summary statistics\n",
    "print(\"Summary Statistics:\")\n",
    "print(df_cleaned['ride_length_minutes'].describe())"
   ]
  },
  {
   "cell_type": "code",
   "execution_count": 19,
   "metadata": {},
   "outputs": [
    {
     "name": "stdout",
     "output_type": "stream",
     "text": [
      "Unusually Long Rides:\n",
      "         Unnamed: 0           ride_id rideable_type              started_at  \\\n",
      "394             394  047B62633B15D1B6  classic_bike 2023-07-03 20:45:43.000   \n",
      "2316           2316  F29A4C464DC2E896  classic_bike 2023-07-03 17:51:47.000   \n",
      "2376           2376  3FE6E76BF813294B   docked_bike 2023-07-07 18:13:06.000   \n",
      "2523           2523  2BE747FEB1F6EAE0  classic_bike 2023-07-04 19:33:25.000   \n",
      "2533           2533  AC39C5FD5E02DE34   docked_bike 2023-07-17 20:13:07.000   \n",
      "...             ...               ...           ...                     ...   \n",
      "6479178     6479178  3D919A0B0262DCB8  classic_bike 2024-07-23 17:27:05.263   \n",
      "6479318     6479318  9C1F8AB7611D78CA  classic_bike 2024-07-12 09:38:38.705   \n",
      "6479904     6479904  FB26B7CE53A6A707  classic_bike 2024-07-15 12:00:20.395   \n",
      "6480949     6480949  1E8EC6CBE5E484F0  classic_bike 2024-07-23 15:11:27.429   \n",
      "6481321     6481321  D952167BFC9FF5D3  classic_bike 2024-07-10 15:56:35.914   \n",
      "\n",
      "                       ended_at member_casual ride_length_formatted  Year  \\\n",
      "394     2023-07-04 09:15:54.000        member              12:30:11  2023   \n",
      "2316    2023-07-04 11:09:48.000        casual              17:18:01  2023   \n",
      "2376    2023-07-08 17:10:00.000        casual              22:56:54  2023   \n",
      "2523    2023-07-05 11:34:20.000        casual              16:00:55  2023   \n",
      "2533    2023-07-18 20:39:42.000        casual              24:26:35  2023   \n",
      "...                         ...           ...                   ...   ...   \n",
      "6479178 2024-07-24 07:06:26.669        casual              13:39:21  2024   \n",
      "6479318 2024-07-13 00:00:31.897        member              14:21:53  2024   \n",
      "6479904 2024-07-16 12:23:22.943        casual              24:23:02  2024   \n",
      "6480949 2024-07-24 07:07:32.875        casual              15:56:05  2024   \n",
      "6481321 2024-07-11 08:02:33.870        casual              16:05:57  2024   \n",
      "\n",
      "         Month ride_length  ride_length_minutes  \n",
      "394          7     12h 30m           750.183333  \n",
      "2316         7     17h 18m          1038.016667  \n",
      "2376         7     22h 56m          1376.900000  \n",
      "2523         7      16h 0m           960.916667  \n",
      "2533         7     24h 26m          1466.583333  \n",
      "...        ...         ...                  ...  \n",
      "6479178      7     13h 39m           819.356767  \n",
      "6479318      7     14h 21m           861.886533  \n",
      "6479904      7     24h 23m          1463.042467  \n",
      "6480949      7     15h 56m           956.090767  \n",
      "6481321      7      16h 5m           965.965933  \n",
      "\n",
      "[12322 rows x 11 columns]\n",
      "Unusually Short Rides:\n",
      "Empty DataFrame\n",
      "Columns: [Unnamed: 0, ride_id, rideable_type, started_at, ended_at, member_casual, ride_length_formatted, Year, Month, ride_length, ride_length_minutes]\n",
      "Index: []\n"
     ]
    }
   ],
   "source": [
    "# Find unusually long rides (for example, longer than 12 hours)\n",
    "unusually_long_rides = df_cleaned[df_cleaned['ride_length_minutes'] > 12 * 60]\n",
    "\n",
    "print(\"Unusually Long Rides:\")\n",
    "print(unusually_long_rides)\n",
    "\n",
    "# Find unusually short rides (for example, negative or extremely short durations)\n",
    "unusually_short_rides = df_cleaned[df_cleaned['ride_length_minutes'] < 0]\n",
    "\n",
    "print(\"Unusually Short Rides:\")\n",
    "print(unusually_short_rides)"
   ]
  },
  {
   "cell_type": "markdown",
   "metadata": {},
   "source": [
    "There is no unusually short ride, but we have more than 12 thousand unusually long rides. However, it is acceptable that someone stays with the bike for more than 12 hours or even a day for many reasons. For the purpose of this analysis, let's concentrate only at the rides with maximum of 24 hours"
   ]
  },
  {
   "cell_type": "code",
   "execution_count": 24,
   "metadata": {},
   "outputs": [
    {
     "name": "stdout",
     "output_type": "stream",
     "text": [
      "Unusually Long Rides:\n",
      "         Unnamed: 0           ride_id rideable_type              started_at  \\\n",
      "2533           2533  AC39C5FD5E02DE34   docked_bike 2023-07-17 20:13:07.000   \n",
      "9331           9331  6BC1CAB1D40E4000  classic_bike 2023-07-29 10:05:39.000   \n",
      "15142         15142  1F87EA7F0585B13B  classic_bike 2023-07-09 19:27:46.000   \n",
      "44882         44882  2BDFB5F7FC92EF4F   docked_bike 2023-07-15 17:23:18.000   \n",
      "186126       186126  A9521ACAE3830A3E  classic_bike 2023-07-27 16:45:18.000   \n",
      "...             ...               ...           ...                     ...   \n",
      "6378032     6378032  85BD89C02B9C0FF6  classic_bike 2024-07-20 12:43:58.144   \n",
      "6420256     6420256  49458ABB5D014ADB  classic_bike 2024-07-17 17:04:50.005   \n",
      "6455699     6455699  58EB8893E72A3836  classic_bike 2024-07-21 13:17:58.178   \n",
      "6466359     6466359  E0EF9956FB773C0F  classic_bike 2024-07-20 20:14:08.199   \n",
      "6479904     6479904  FB26B7CE53A6A707  classic_bike 2024-07-15 12:00:20.395   \n",
      "\n",
      "                       ended_at member_casual ride_length_formatted  Year  \\\n",
      "2533    2023-07-18 20:39:42.000        casual              24:26:35  2023   \n",
      "9331    2023-07-30 10:37:32.000        casual              24:31:53  2023   \n",
      "15142   2023-07-10 20:13:51.000        member              24:46:05  2023   \n",
      "44882   2023-07-16 17:31:06.000        casual              24:07:48  2023   \n",
      "186126  2023-07-28 17:37:34.000        casual              24:52:16  2023   \n",
      "...                         ...           ...                   ...   ...   \n",
      "6378032 2024-07-21 13:43:43.888        casual              24:59:45  2024   \n",
      "6420256 2024-07-18 17:36:44.829        member              24:31:54  2024   \n",
      "6455699 2024-07-22 13:22:07.563        casual              24:04:09  2024   \n",
      "6466359 2024-07-21 20:36:43.250        casual              24:22:35  2024   \n",
      "6479904 2024-07-16 12:23:22.943        casual              24:23:02  2024   \n",
      "\n",
      "         Month ride_length  ride_length_minutes  \n",
      "2533         7     24h 26m          1466.583333  \n",
      "9331         7     24h 31m          1471.883333  \n",
      "15142        7     24h 46m          1486.083333  \n",
      "44882        7      24h 7m          1447.800000  \n",
      "186126       7     24h 52m          1492.266667  \n",
      "...        ...         ...                  ...  \n",
      "6378032      7     24h 59m          1499.762400  \n",
      "6420256      7     24h 31m          1471.913733  \n",
      "6455699      7      24h 4m          1444.156417  \n",
      "6466359      7     24h 22m          1462.584183  \n",
      "6479904      7     24h 23m          1463.042467  \n",
      "\n",
      "[9065 rows x 11 columns]\n"
     ]
    }
   ],
   "source": [
    "# Find unusually long rides (for example, longer than 12 hours)\n",
    "unusually_long_rides2 = df_cleaned[df_cleaned['ride_length_minutes'] > 24 * 60]\n",
    "\n",
    "print(\"Unusually Long Rides:\")\n",
    "print(unusually_long_rides2)\n"
   ]
  },
  {
   "cell_type": "code",
   "execution_count": 27,
   "metadata": {},
   "outputs": [
    {
     "data": {
      "text/plain": [
       "6473844"
      ]
     },
     "execution_count": 27,
     "metadata": {},
     "output_type": "execute_result"
    }
   ],
   "source": [
    "# Remove ride lengths with more thatn 24 hours\n",
    "df_cleaned = df_cleaned[df_cleaned['ride_length_minutes'] < 24 * 60] \n",
    "len(df_cleaned) #the new length should be 6.473.844"
   ]
  },
  {
   "cell_type": "markdown",
   "metadata": {},
   "source": [
    "Now, let's check if there is ride_length equal to 0"
   ]
  },
  {
   "cell_type": "code",
   "execution_count": 34,
   "metadata": {},
   "outputs": [
    {
     "name": "stdout",
     "output_type": "stream",
     "text": [
      "Rides equal to 0\n",
      "         Unnamed: 0           ride_id  rideable_type          started_at  \\\n",
      "12803         12803  5C1564EF34FE0C9B  electric_bike 2023-07-31 07:39:56   \n",
      "16270         16270  9E8EB355F2B879C6  electric_bike 2023-07-20 15:50:58   \n",
      "21510         21510  92E9649507127D92   classic_bike 2023-07-14 09:29:50   \n",
      "27557         27557  80769EAE6480B2B0  electric_bike 2023-07-03 23:01:05   \n",
      "34197         34197  DB118F9DFD6A3311   classic_bike 2023-07-07 11:54:50   \n",
      "...             ...               ...            ...                 ...   \n",
      "5020129     5020129  BB40B7787448A6E5  electric_bike 2024-05-22 15:23:08   \n",
      "5021368     5021368  88C11CAF24E89B47  electric_bike 2024-05-07 13:54:54   \n",
      "5021676     5021676  D77E6F954ECE8120  electric_bike 2024-05-23 16:02:43   \n",
      "5021677     5021677  7DF8A1EEED0A2F2A  electric_bike 2024-05-23 16:02:01   \n",
      "5021807     5021807  09A5FA1C47075484  electric_bike 2024-05-29 11:19:11   \n",
      "\n",
      "                   ended_at member_casual  Year  Month ride_length  \\\n",
      "12803   2023-07-31 07:39:56        member  2023      7       0h 0m   \n",
      "16270   2023-07-20 15:50:58        member  2023      7       0h 0m   \n",
      "21510   2023-07-14 09:29:50        casual  2023      7       0h 0m   \n",
      "27557   2023-07-03 23:01:05        member  2023      7       0h 0m   \n",
      "34197   2023-07-07 11:54:50        member  2023      7       0h 0m   \n",
      "...                     ...           ...   ...    ...         ...   \n",
      "5020129 2024-05-22 15:23:08        casual  2024      5       0h 0m   \n",
      "5021368 2024-05-07 13:54:54        member  2024      5       0h 0m   \n",
      "5021676 2024-05-23 16:02:43        member  2024      5       0h 0m   \n",
      "5021677 2024-05-23 16:02:01        member  2024      5       0h 0m   \n",
      "5021807 2024-05-29 11:19:11        member  2024      5       0h 0m   \n",
      "\n",
      "         ride_length_minutes  \n",
      "12803                    0.0  \n",
      "16270                    0.0  \n",
      "21510                    0.0  \n",
      "27557                    0.0  \n",
      "34197                    0.0  \n",
      "...                      ...  \n",
      "5020129                  0.0  \n",
      "5021368                  0.0  \n",
      "5021676                  0.0  \n",
      "5021677                  0.0  \n",
      "5021807                  0.0  \n",
      "\n",
      "[1299 rows x 10 columns]\n"
     ]
    }
   ],
   "source": [
    "# Find rides equal to 0\n",
    "rides_zero = df_cleaned[df_cleaned['ride_length_minutes'] == 0]\n",
    "\n",
    "print(\"Rides equal to 0\")\n",
    "print(rides_zero)\n"
   ]
  },
  {
   "cell_type": "code",
   "execution_count": 35,
   "metadata": {},
   "outputs": [
    {
     "data": {
      "text/plain": [
       "6472545"
      ]
     },
     "execution_count": 35,
     "metadata": {},
     "output_type": "execute_result"
    }
   ],
   "source": [
    "# Remove ride lengths equals to 0\n",
    "df_cleaned = df_cleaned[df_cleaned['ride_length_minutes'] != 0] \n",
    "len(df_cleaned) #the new length should be 6.472.545"
   ]
  },
  {
   "cell_type": "markdown",
   "metadata": {},
   "source": [
    "Let's check again the df_cleaned dataframe"
   ]
  },
  {
   "cell_type": "code",
   "execution_count": 36,
   "metadata": {},
   "outputs": [
    {
     "data": {
      "text/html": [
       "<div>\n",
       "<style scoped>\n",
       "    .dataframe tbody tr th:only-of-type {\n",
       "        vertical-align: middle;\n",
       "    }\n",
       "\n",
       "    .dataframe tbody tr th {\n",
       "        vertical-align: top;\n",
       "    }\n",
       "\n",
       "    .dataframe thead th {\n",
       "        text-align: right;\n",
       "    }\n",
       "</style>\n",
       "<table border=\"1\" class=\"dataframe\">\n",
       "  <thead>\n",
       "    <tr style=\"text-align: right;\">\n",
       "      <th></th>\n",
       "      <th>Unnamed: 0</th>\n",
       "      <th>ride_id</th>\n",
       "      <th>rideable_type</th>\n",
       "      <th>started_at</th>\n",
       "      <th>ended_at</th>\n",
       "      <th>member_casual</th>\n",
       "      <th>Year</th>\n",
       "      <th>Month</th>\n",
       "      <th>ride_length</th>\n",
       "      <th>ride_length_minutes</th>\n",
       "    </tr>\n",
       "  </thead>\n",
       "  <tbody>\n",
       "    <tr>\n",
       "      <th>1544359</th>\n",
       "      <td>1544359</td>\n",
       "      <td>9AAE5C9D70EC20AE</td>\n",
       "      <td>classic_bike</td>\n",
       "      <td>2023-09-30 12:11:16.000</td>\n",
       "      <td>2023-09-30 12:41:58.000</td>\n",
       "      <td>casual</td>\n",
       "      <td>2023</td>\n",
       "      <td>9</td>\n",
       "      <td>0h 30m</td>\n",
       "      <td>30.700000</td>\n",
       "    </tr>\n",
       "    <tr>\n",
       "      <th>4954921</th>\n",
       "      <td>4954921</td>\n",
       "      <td>9A03A4E9618F4B61</td>\n",
       "      <td>classic_bike</td>\n",
       "      <td>2024-05-04 15:47:23.000</td>\n",
       "      <td>2024-05-04 15:55:31.000</td>\n",
       "      <td>member</td>\n",
       "      <td>2024</td>\n",
       "      <td>5</td>\n",
       "      <td>0h 8m</td>\n",
       "      <td>8.133333</td>\n",
       "    </tr>\n",
       "    <tr>\n",
       "      <th>3569309</th>\n",
       "      <td>3569309</td>\n",
       "      <td>9AA6F3B264220420</td>\n",
       "      <td>classic_bike</td>\n",
       "      <td>2024-02-27 08:19:23.000</td>\n",
       "      <td>2024-02-27 08:22:21.000</td>\n",
       "      <td>member</td>\n",
       "      <td>2024</td>\n",
       "      <td>2</td>\n",
       "      <td>0h 2m</td>\n",
       "      <td>2.966667</td>\n",
       "    </tr>\n",
       "    <tr>\n",
       "      <th>5956440</th>\n",
       "      <td>5956440</td>\n",
       "      <td>3F373E402230EDD5</td>\n",
       "      <td>electric_bike</td>\n",
       "      <td>2024-07-06 14:30:41.189</td>\n",
       "      <td>2024-07-06 14:41:59.809</td>\n",
       "      <td>casual</td>\n",
       "      <td>2024</td>\n",
       "      <td>7</td>\n",
       "      <td>0h 11m</td>\n",
       "      <td>11.310333</td>\n",
       "    </tr>\n",
       "    <tr>\n",
       "      <th>2785528</th>\n",
       "      <td>2785528</td>\n",
       "      <td>3E4DEDE9849A74D4</td>\n",
       "      <td>classic_bike</td>\n",
       "      <td>2023-11-19 13:39:06.000</td>\n",
       "      <td>2023-11-19 13:45:49.000</td>\n",
       "      <td>member</td>\n",
       "      <td>2023</td>\n",
       "      <td>11</td>\n",
       "      <td>0h 6m</td>\n",
       "      <td>6.716667</td>\n",
       "    </tr>\n",
       "  </tbody>\n",
       "</table>\n",
       "</div>"
      ],
      "text/plain": [
       "         Unnamed: 0           ride_id  rideable_type              started_at  \\\n",
       "1544359     1544359  9AAE5C9D70EC20AE   classic_bike 2023-09-30 12:11:16.000   \n",
       "4954921     4954921  9A03A4E9618F4B61   classic_bike 2024-05-04 15:47:23.000   \n",
       "3569309     3569309  9AA6F3B264220420   classic_bike 2024-02-27 08:19:23.000   \n",
       "5956440     5956440  3F373E402230EDD5  electric_bike 2024-07-06 14:30:41.189   \n",
       "2785528     2785528  3E4DEDE9849A74D4   classic_bike 2023-11-19 13:39:06.000   \n",
       "\n",
       "                       ended_at member_casual  Year  Month ride_length  \\\n",
       "1544359 2023-09-30 12:41:58.000        casual  2023      9      0h 30m   \n",
       "4954921 2024-05-04 15:55:31.000        member  2024      5       0h 8m   \n",
       "3569309 2024-02-27 08:22:21.000        member  2024      2       0h 2m   \n",
       "5956440 2024-07-06 14:41:59.809        casual  2024      7      0h 11m   \n",
       "2785528 2023-11-19 13:45:49.000        member  2023     11       0h 6m   \n",
       "\n",
       "         ride_length_minutes  \n",
       "1544359            30.700000  \n",
       "4954921             8.133333  \n",
       "3569309             2.966667  \n",
       "5956440            11.310333  \n",
       "2785528             6.716667  "
      ]
     },
     "execution_count": 36,
     "metadata": {},
     "output_type": "execute_result"
    }
   ],
   "source": [
    "df_cleaned.sample(5)"
   ]
  },
  {
   "cell_type": "markdown",
   "metadata": {},
   "source": [
    "Let's get rid of the 'ride_length_formatted' column and save the dataframe into a new .csv file"
   ]
  },
  {
   "cell_type": "code",
   "execution_count": 37,
   "metadata": {},
   "outputs": [],
   "source": [
    "\n",
    "#drop the ride_length_formatted column\n",
    "#df_cleaned = df_cleaned.drop(columns=['ride_length_formatted']) \n",
    "\n",
    " #save it into a pdf\n",
    "df_cleaned.to_csv('df_cleaned.csv', encoding='utf8')"
   ]
  },
  {
   "cell_type": "markdown",
   "metadata": {},
   "source": [
    "Now, let's work with the new .csv file and proceed our analysis"
   ]
  },
  {
   "cell_type": "code",
   "execution_count": 1,
   "metadata": {},
   "outputs": [
    {
     "data": {
      "text/html": [
       "<div>\n",
       "<style scoped>\n",
       "    .dataframe tbody tr th:only-of-type {\n",
       "        vertical-align: middle;\n",
       "    }\n",
       "\n",
       "    .dataframe tbody tr th {\n",
       "        vertical-align: top;\n",
       "    }\n",
       "\n",
       "    .dataframe thead th {\n",
       "        text-align: right;\n",
       "    }\n",
       "</style>\n",
       "<table border=\"1\" class=\"dataframe\">\n",
       "  <thead>\n",
       "    <tr style=\"text-align: right;\">\n",
       "      <th></th>\n",
       "      <th>Unnamed: 0</th>\n",
       "      <th>Unnamed: 0.1</th>\n",
       "      <th>Unnamed: 0.1.1</th>\n",
       "      <th>ride_id</th>\n",
       "      <th>rideable_type</th>\n",
       "      <th>started_at</th>\n",
       "      <th>ended_at</th>\n",
       "      <th>member_casual</th>\n",
       "      <th>Year</th>\n",
       "      <th>Month</th>\n",
       "      <th>ride_length</th>\n",
       "      <th>ride_length_minutes</th>\n",
       "      <th>day_of_week</th>\n",
       "    </tr>\n",
       "  </thead>\n",
       "  <tbody>\n",
       "    <tr>\n",
       "      <th>4031</th>\n",
       "      <td>4031</td>\n",
       "      <td>4032</td>\n",
       "      <td>4032</td>\n",
       "      <td>CDC494F74E94FBF0</td>\n",
       "      <td>classic_bike</td>\n",
       "      <td>2023-07-03 17:06:12</td>\n",
       "      <td>2023-07-03 17:59:14</td>\n",
       "      <td>member</td>\n",
       "      <td>2023</td>\n",
       "      <td>7</td>\n",
       "      <td>0h 53m</td>\n",
       "      <td>53.033333</td>\n",
       "      <td>Monday</td>\n",
       "    </tr>\n",
       "    <tr>\n",
       "      <th>2647798</th>\n",
       "      <td>2647798</td>\n",
       "      <td>2652081</td>\n",
       "      <td>2652081</td>\n",
       "      <td>C4B1455B961F13FC</td>\n",
       "      <td>classic_bike</td>\n",
       "      <td>2023-10-20 14:17:11</td>\n",
       "      <td>2023-10-20 14:34:07</td>\n",
       "      <td>member</td>\n",
       "      <td>2023</td>\n",
       "      <td>10</td>\n",
       "      <td>0h 16m</td>\n",
       "      <td>16.933333</td>\n",
       "      <td>Friday</td>\n",
       "    </tr>\n",
       "    <tr>\n",
       "      <th>3779126</th>\n",
       "      <td>3779126</td>\n",
       "      <td>3785360</td>\n",
       "      <td>3785360</td>\n",
       "      <td>5B2C72E182F541A6</td>\n",
       "      <td>electric_bike</td>\n",
       "      <td>2024-03-18 18:33:41</td>\n",
       "      <td>2024-03-18 18:43:48</td>\n",
       "      <td>member</td>\n",
       "      <td>2024</td>\n",
       "      <td>3</td>\n",
       "      <td>0h 10m</td>\n",
       "      <td>10.116667</td>\n",
       "      <td>Monday</td>\n",
       "    </tr>\n",
       "    <tr>\n",
       "      <th>4404218</th>\n",
       "      <td>4404218</td>\n",
       "      <td>4411604</td>\n",
       "      <td>4411604</td>\n",
       "      <td>B1677BBF98CB3E94</td>\n",
       "      <td>electric_bike</td>\n",
       "      <td>2024-04-17 09:46:21</td>\n",
       "      <td>2024-04-17 09:49:39</td>\n",
       "      <td>member</td>\n",
       "      <td>2024</td>\n",
       "      <td>4</td>\n",
       "      <td>0h 3m</td>\n",
       "      <td>3.300000</td>\n",
       "      <td>Wednesday</td>\n",
       "    </tr>\n",
       "    <tr>\n",
       "      <th>1241350</th>\n",
       "      <td>1241350</td>\n",
       "      <td>1243010</td>\n",
       "      <td>1243010</td>\n",
       "      <td>609014C4D64730EB</td>\n",
       "      <td>classic_bike</td>\n",
       "      <td>2023-08-31 08:34:24</td>\n",
       "      <td>2023-08-31 08:40:01</td>\n",
       "      <td>member</td>\n",
       "      <td>2023</td>\n",
       "      <td>8</td>\n",
       "      <td>0h 5m</td>\n",
       "      <td>5.616667</td>\n",
       "      <td>Thursday</td>\n",
       "    </tr>\n",
       "  </tbody>\n",
       "</table>\n",
       "</div>"
      ],
      "text/plain": [
       "         Unnamed: 0  Unnamed: 0.1  Unnamed: 0.1.1           ride_id  \\\n",
       "4031           4031          4032            4032  CDC494F74E94FBF0   \n",
       "2647798     2647798       2652081         2652081  C4B1455B961F13FC   \n",
       "3779126     3779126       3785360         3785360  5B2C72E182F541A6   \n",
       "4404218     4404218       4411604         4411604  B1677BBF98CB3E94   \n",
       "1241350     1241350       1243010         1243010  609014C4D64730EB   \n",
       "\n",
       "         rideable_type           started_at             ended_at  \\\n",
       "4031      classic_bike  2023-07-03 17:06:12  2023-07-03 17:59:14   \n",
       "2647798   classic_bike  2023-10-20 14:17:11  2023-10-20 14:34:07   \n",
       "3779126  electric_bike  2024-03-18 18:33:41  2024-03-18 18:43:48   \n",
       "4404218  electric_bike  2024-04-17 09:46:21  2024-04-17 09:49:39   \n",
       "1241350   classic_bike  2023-08-31 08:34:24  2023-08-31 08:40:01   \n",
       "\n",
       "        member_casual  Year  Month ride_length  ride_length_minutes  \\\n",
       "4031           member  2023      7      0h 53m            53.033333   \n",
       "2647798        member  2023     10      0h 16m            16.933333   \n",
       "3779126        member  2024      3      0h 10m            10.116667   \n",
       "4404218        member  2024      4       0h 3m             3.300000   \n",
       "1241350        member  2023      8       0h 5m             5.616667   \n",
       "\n",
       "        day_of_week  \n",
       "4031         Monday  \n",
       "2647798      Friday  \n",
       "3779126      Monday  \n",
       "4404218   Wednesday  \n",
       "1241350    Thursday  "
      ]
     },
     "execution_count": 1,
     "metadata": {},
     "output_type": "execute_result"
    }
   ],
   "source": [
    "#import the df_cleaned data assigned into a variable \n",
    "import pandas as pd\n",
    "import numpy as np\n",
    "df= pd.read_csv(\"df_cleaned.csv\", sep=\",\")\n",
    "df.sample(5)"
   ]
  },
  {
   "cell_type": "code",
   "execution_count": 2,
   "metadata": {},
   "outputs": [
    {
     "data": {
      "text/plain": [
       "Unnamed: 0               int64\n",
       "Unnamed: 0.1             int64\n",
       "Unnamed: 0.1.1           int64\n",
       "ride_id                 object\n",
       "rideable_type           object\n",
       "started_at              object\n",
       "ended_at                object\n",
       "member_casual           object\n",
       "Year                     int64\n",
       "Month                    int64\n",
       "ride_length             object\n",
       "ride_length_minutes    float64\n",
       "day_of_week             object\n",
       "dtype: object"
      ]
     },
     "execution_count": 2,
     "metadata": {},
     "output_type": "execute_result"
    }
   ],
   "source": [
    "#Checking the dtypes\n",
    "df.dtypes"
   ]
  },
  {
   "cell_type": "code",
   "execution_count": 3,
   "metadata": {},
   "outputs": [
    {
     "data": {
      "text/plain": [
       "Unnamed: 0                      int64\n",
       "Unnamed: 0.1                    int64\n",
       "Unnamed: 0.1.1                  int64\n",
       "ride_id                        string\n",
       "rideable_type                  string\n",
       "started_at             datetime64[ns]\n",
       "ended_at               datetime64[ns]\n",
       "member_casual                  string\n",
       "Year                            int64\n",
       "Month                           int64\n",
       "ride_length                    object\n",
       "ride_length_minutes           float64\n",
       "day_of_week                    object\n",
       "dtype: object"
      ]
     },
     "execution_count": 3,
     "metadata": {},
     "output_type": "execute_result"
    }
   ],
   "source": [
    "#convert the 'ride_id', 'rideable_type', 'member_casual' columns from object to string\n",
    "cols3_obj_to_str = ['ride_id', 'rideable_type', 'member_casual'] #assign the columns to a variable \n",
    "for col in cols3_obj_to_str: #using a loop to convert\n",
    "    df[col] = df[col].astype(pd.StringDtype())\n",
    "\n",
    "#convert the 'started_at', 'ended_at', columns from object to datetime\n",
    "cols3_obj_to_date = ['started_at','ended_at'] #assign the columns to a variable \n",
    "for col in cols3_obj_to_date: #using a loop to convert\n",
    "    df[col] = pd.to_datetime(df[col])\n",
    "\n",
    "# Convert the time strings to timedelta\n",
    "ride_length = df['ride_length'] #assign the columns to a variable \n",
    "ride_length = pd.to_timedelta(ride_length)\n",
    "\n",
    "\n",
    "#print the dtypes to see if they are converted\n",
    "df.dtypes\n"
   ]
  },
  {
   "cell_type": "markdown",
   "metadata": {},
   "source": [
    "Ok, everything looks great. Let's proceed with our min, max, and mean ride length"
   ]
  },
  {
   "cell_type": "code",
   "execution_count": 5,
   "metadata": {},
   "outputs": [
    {
     "name": "stdout",
     "output_type": "stream",
     "text": [
      "Max ride length: 23h 59m\n",
      "Min ride length: 0h 0m\n",
      "Mean ride length: 0h 15m\n"
     ]
    }
   ],
   "source": [
    "# Calculate max, min, and mean ride_length in minutes\n",
    "ride_length_minutes = (df['ended_at'] - df['started_at']).dt.total_seconds() / 60\n",
    "max_ride_length = ride_length_minutes.max()\n",
    "min_ride_length = ride_length_minutes.min()\n",
    "mean_ride_length = ride_length_minutes.mean()\n",
    "\n",
    "print(f\"Max ride length: {int(max_ride_length // 60)}h {int(max_ride_length % 60)}m\")\n",
    "print(f\"Min ride length: {int(min_ride_length // 60)}h {int(min_ride_length % 60)}m\")\n",
    "print(f\"Mean ride length: {int(mean_ride_length // 60)}h {int(mean_ride_length % 60)}m\")"
   ]
  },
  {
   "cell_type": "markdown",
   "metadata": {},
   "source": [
    "The important thing is that we know now that the total average of rides is **15 minutes**. Let's check if casual member or annual members have different average ride lengths. "
   ]
  },
  {
   "cell_type": "code",
   "execution_count": 4,
   "metadata": {},
   "outputs": [
    {
     "name": "stdout",
     "output_type": "stream",
     "text": [
      "Mean ride length for casual member is: 0h 21m\n",
      "Mean ride length for annual member is: 0h 12m\n"
     ]
    }
   ],
   "source": [
    "# Group by member_type and calculate the average ride length\n",
    "avg_ride_per_member = df.groupby('member_casual')['ride_length_minutes'].mean()\n",
    "\n",
    "# Display the average ride length per member type\n",
    "print(f\"Mean ride length for casual member is: {int(avg_ride_per_member['casual'] // 60)}h {int(avg_ride_per_member['casual'] % 60)}m\")\n",
    "print(f\"Mean ride length for annual member is: {int(avg_ride_per_member['member'] // 60)}h {int(avg_ride_per_member['member'] % 60)}m\")"
   ]
  },
  {
   "cell_type": "code",
   "execution_count": 5,
   "metadata": {},
   "outputs": [],
   "source": [
    "#Save the 'avg_ride_per_member' into a csv file\n",
    "avg_ride_per_member.to_csv('avg_ride_per_member.csv', encoding='utf8')"
   ]
  },
  {
   "cell_type": "markdown",
   "metadata": {},
   "source": [
    "Nos, let's analyse which parts of the year has more and less bike rides and the preference between type of users"
   ]
  },
  {
   "cell_type": "code",
   "execution_count": 6,
   "metadata": {},
   "outputs": [
    {
     "name": "stdout",
     "output_type": "stream",
     "text": [
      "Number of rides per year\n",
      "2023    3324054\n",
      "2024    3148491\n",
      "Name: Year, dtype: int64\n",
      "Number of rides per month\n",
      "7     1514035\n",
      "8      770280\n",
      "6      709553\n",
      "9      665292\n",
      "5      608575\n",
      "10     536342\n",
      "4      414320\n",
      "11     362012\n",
      "3      301166\n",
      "12     223755\n",
      "2      222768\n",
      "1      144447\n",
      "Name: Month, dtype: int64\n"
     ]
    }
   ],
   "source": [
    "#First, count values per year\n",
    "rides_year = df['Year'].value_counts()\n",
    "\n",
    "#Then, count values per month \n",
    "rides_month = df['Month'].value_counts()\n",
    "\n",
    "print(\"Number of rides per year\")\n",
    "print(rides_year)\n",
    "\n",
    "print(\"Number of rides per month\")\n",
    "print(rides_month)"
   ]
  },
  {
   "cell_type": "markdown",
   "metadata": {},
   "source": [
    "2023 had slightly more rides than 2024. The big diference we can see however is that July is the month with the highest number of rides (1.514.035), followed by August and June. It indicates that Cyclistic is mostly used during summer. The months with least rides are during winter. Can we check this by type of user?"
   ]
  },
  {
   "cell_type": "code",
   "execution_count": 7,
   "metadata": {},
   "outputs": [
    {
     "name": "stdout",
     "output_type": "stream",
     "text": [
      "Casual Members DataFrame:\n",
      "   member_casual  Month   count  total_month  proportion\n",
      "12        casual      7  649783      1514035       42.92\n",
      "14        casual      8  310040       770280       40.25\n",
      "10        casual      6  300153       709553       42.30\n",
      "16        casual      9  260819       665292       39.20\n",
      "8         casual      5  230327       608575       37.85\n",
      "18        casual     10  176540       536342       32.92\n",
      "6         casual      4  131337       414320       31.70\n",
      "20        casual     11   98072       362012       27.09\n",
      "4         casual      3   82200       301166       27.29\n",
      "22        casual     12   51478       223755       23.01\n",
      "2         casual      2   46931       222768       21.07\n",
      "0         casual      1   24320       144447       16.84\n",
      "Annual Members DataFrame:\n",
      "   member_casual  Month   count  total_month  proportion\n",
      "13        member      7  864252      1514035       57.08\n",
      "15        member      8  460240       770280       59.75\n",
      "11        member      6  409400       709553       57.70\n",
      "17        member      9  404473       665292       60.80\n",
      "9         member      5  378248       608575       62.15\n",
      "19        member     10  359802       536342       67.08\n",
      "7         member      4  282983       414320       68.30\n",
      "21        member     11  263940       362012       72.91\n",
      "5         member      3  218966       301166       72.71\n",
      "3         member      2  175837       222768       78.93\n",
      "23        member     12  172277       223755       76.99\n",
      "1         member      1  120127       144447       83.16\n"
     ]
    }
   ],
   "source": [
    "# Grouping the data\n",
    "members_month = df.groupby(['member_casual', 'Month']).size().reset_index(name='count')\n",
    "\n",
    "# Calculate the total counts per user type\n",
    "total_month = df.groupby('Month').size().reset_index(name='total_month')\n",
    "\n",
    "# Merge the total counts with the grouped data\n",
    "merged_members_month = pd.merge(members_month, total_month, on='Month')\n",
    "\n",
    "# Calculate the proportion\n",
    "merged_members_month['proportion'] = (merged_members_month['count'] / merged_members_month['total_month'] * 100).round(2)\n",
    "\n",
    "# Separate into two DataFrames based on member type\n",
    "casual_df = merged_members_month[merged_members_month['member_casual'] == 'casual']\n",
    "member_df = merged_members_month[merged_members_month['member_casual'] == 'member']\n",
    "\n",
    "# Display the two DataFrames\n",
    "print(\"Casual Members DataFrame:\")\n",
    "print(casual_df.sort_values(by='count', ascending=False)) #Sorting by descending order\n",
    "\n",
    "print(\"Annual Members DataFrame:\")\n",
    "print(member_df.sort_values(by='count', ascending=False)) #Sorting by descending order"
   ]
  },
  {
   "cell_type": "code",
   "execution_count": 8,
   "metadata": {},
   "outputs": [],
   "source": [
    "#Save the 'merged_members_month' into a csv file\n",
    "merged_members_month.to_csv('rides_per_month_members.csv', encoding='utf8')"
   ]
  },
  {
   "cell_type": "markdown",
   "metadata": {},
   "source": [
    "We can see that when we separate the type of members by month, that the number of casual riders increase almost by 3 from the peak of the winter to the peak of the summer. Casual riders tends to bike more during hot and sunny days in Chicago. However, the members with annual memberships tends to maintain a regular use troughout the year, with peaks during winter (January, December, and February). \n",
    "\n",
    "It could be because member uses the bike to go to work during the week than during the weekend, even when it's winter. Let's try to check it out if this hypothesis is valid. "
   ]
  },
  {
   "cell_type": "code",
   "execution_count": 9,
   "metadata": {},
   "outputs": [],
   "source": [
    "#create a new colum 'day_of_week' by extracting this information from 'started_at' column  \n",
    "df['day_of_week'] = df['started_at'].dt.day_name()\n",
    "df.sample(5)\n",
    "\n",
    "#save it into a pdf to update the file with the day of the week column \n",
    "#df.to_csv('df_cleaned.csv', encoding='utf8')"
   ]
  },
  {
   "cell_type": "markdown",
   "metadata": {},
   "source": [
    "Now that we have the 'day_of_week' column, let's see in general and by type of user the day of week with more activity. "
   ]
  },
  {
   "cell_type": "code",
   "execution_count": 10,
   "metadata": {},
   "outputs": [
    {
     "name": "stdout",
     "output_type": "stream",
     "text": [
      "Saturday     1020801\n",
      "Wednesday     962780\n",
      "Thursday      934933\n",
      "Friday        920214\n",
      "Tuesday       918509\n",
      "Sunday        864193\n",
      "Monday        851115\n",
      "Name: day_of_week, dtype: int64\n"
     ]
    }
   ],
   "source": [
    "#assign the column into a variable\n",
    "days_week = df['day_of_week'].value_counts()\n",
    "print(days_week)"
   ]
  },
  {
   "cell_type": "markdown",
   "metadata": {},
   "source": [
    "Saturday is the day with the highest activity, followed by Wednesday, and Thursday. Monday and Sunday are the less preferable, even tough the differences are not extremes in numbers. Let's see now by type of user"
   ]
  },
  {
   "cell_type": "code",
   "execution_count": 11,
   "metadata": {},
   "outputs": [
    {
     "name": "stdout",
     "output_type": "stream",
     "text": [
      "Casual Members DataFrame:\n",
      "   member_casual day_of_week   count  total_days  proportion\n",
      "4         casual    Saturday  484048     1020801       47.42\n",
      "6         casual      Sunday  398548      864193       46.12\n",
      "0         casual      Friday  343450      920214       37.32\n",
      "8         casual    Thursday  293478      934933       31.39\n",
      "12        casual   Wednesday  293322      962780       30.47\n",
      "10        casual     Tuesday  275265      918509       29.97\n",
      "2         casual      Monday  273889      851115       32.18\n",
      "Annual Members DataFrame:\n",
      "   member_casual day_of_week   count  total_days  proportion\n",
      "13        member   Wednesday  669458      962780       69.53\n",
      "11        member     Tuesday  643244      918509       70.03\n",
      "9         member    Thursday  641455      934933       68.61\n",
      "3         member      Monday  577226      851115       67.82\n",
      "1         member      Friday  576764      920214       62.68\n",
      "5         member    Saturday  536753     1020801       52.58\n",
      "7         member      Sunday  465645      864193       53.88\n"
     ]
    }
   ],
   "source": [
    "# Grouping the data\n",
    "members_days = df.groupby(['member_casual', 'day_of_week']).size().reset_index(name='count')\n",
    "\n",
    "# Calculate the total counts per user type\n",
    "total_days = df.groupby('day_of_week').size().reset_index(name='total_days')\n",
    "\n",
    "# Merge the total counts with the grouped data\n",
    "merged_members_days = pd.merge(members_days, total_days, on='day_of_week')\n",
    "\n",
    "# Calculate the proportion\n",
    "merged_members_days['proportion'] = (merged_members_days['count'] / merged_members_days['total_days'] * 100).round(2)\n",
    "\n",
    "# Separate into two DataFrames based on member type\n",
    "casual_days = merged_members_days[merged_members_days['member_casual'] == 'casual']\n",
    "member_days = merged_members_days[merged_members_days['member_casual'] == 'member']\n",
    "\n",
    "# Display the two DataFrames\n",
    "print(\"Casual Members DataFrame:\")\n",
    "print(casual_days.sort_values(by='count', ascending=False)) #Sorting by descending order\n",
    "\n",
    "print(\"Annual Members DataFrame:\")\n",
    "print(member_days.sort_values(by='count', ascending=False)) #Sorting by descending order"
   ]
  },
  {
   "cell_type": "code",
   "execution_count": 12,
   "metadata": {},
   "outputs": [],
   "source": [
    "#Save the 'merged_members_days' into a csv file\n",
    "merged_members_days.to_csv('rides_per_day_members.csv', encoding='utf8')"
   ]
  },
  {
   "cell_type": "markdown",
   "metadata": {},
   "source": [
    "Our hypothesis was correct: casual members use more Cyclistic bikes during the weekend and annual members are more active during the week, specially on Wednesday and Tuesday. With this we can imply that annual members use shared bikes to go to work even during the winter. \n",
    "\n",
    "Let's try to see that by ploting a graph\n"
   ]
  },
  {
   "cell_type": "code",
   "execution_count": 22,
   "metadata": {},
   "outputs": [
    {
     "data": {
      "image/png": "[encoded data removed]",
      "text/plain": [
       "<Figure size 432x288 with 1 Axes>"
      ]
     },
     "metadata": {
      "needs_background": "light"
     },
     "output_type": "display_data"
    }
   ],
   "source": [
    "import matplotlib.pyplot as plt\n",
    "\n",
    "# Define the order of the days of the week (Monday to Sunday)\n",
    "order_of_days = ['Monday', 'Tuesday', 'Wednesday', 'Thursday', 'Friday', 'Saturday', 'Sunday']\n",
    "\n",
    "# Map day_of_week to a numeric value to help with sorting\n",
    "day_order_mapping = {day: i for i, day in enumerate(order_of_days)}\n",
    "\n",
    "# Add a column to represent the order\n",
    "merged_members_days['day_order'] = merged_members_days['day_of_week'].map(day_order_mapping)\n",
    "\n",
    "# Sort the DataFrame by the 'day_order' column\n",
    "merged_members_days_sorted = merged_members_days.sort_values('day_order')\n",
    "\n",
    "# Separate the data for casual and members\n",
    "casual_data = merged_members_days_sorted[merged_members_days_sorted['member_casual'] == 'casual']\n",
    "member_data = merged_members_days_sorted[merged_members_days_sorted['member_casual'] == 'member']\n",
    "\n",
    "# Plotting the data\n",
    "plt.plot(casual_data['day_of_week'], casual_data['proportion'], label='Casual Users', marker='o')\n",
    "plt.plot(member_data['day_of_week'], member_data['proportion'], label='Members', marker='s')\n",
    "\n",
    "# Adding title and labels\n",
    "plt.title('Proportion of Rides by Day of the Week for Casual and Annual Members')\n",
    "plt.xlabel('Days of the Week')\n",
    "plt.ylabel('Proportion of Rides (%)')\n",
    "\n",
    "# Adding a legend\n",
    "plt.legend()\n",
    "\n",
    "# Show the plot\n",
    "plt.show()\n"
   ]
  }
 ],
 "metadata": {
  "kernelspec": {
   "display_name": "Python 3",
   "language": "python",
   "name": "python3"
  },
  "language_info": {
   "codemirror_mode": {
    "name": "ipython",
    "version": 3
   },
   "file_extension": ".py",
   "mimetype": "text/x-python",
   "name": "python",
   "nbconvert_exporter": "python",
   "pygments_lexer": "ipython3",
   "version": "3.8.5"
  }
 },
 "nbformat": 4,
 "nbformat_minor": 4
}
